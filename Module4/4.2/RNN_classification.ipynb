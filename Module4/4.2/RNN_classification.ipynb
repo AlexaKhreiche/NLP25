{
 "cells": [
  {
   "cell_type": "code",
   "execution_count": 1,
   "id": "f87acc50",
   "metadata": {},
   "outputs": [
    {
     "name": "stdout",
     "output_type": "stream",
     "text": [
      "Requirement already satisfied: tensorflow in c:\\python311\\lib\\site-packages (2.15.0)\n",
      "Requirement already satisfied: tensorflow-intel==2.15.0 in c:\\python311\\lib\\site-packages (from tensorflow) (2.15.0)\n",
      "Requirement already satisfied: absl-py>=1.0.0 in c:\\python311\\lib\\site-packages (from tensorflow-intel==2.15.0->tensorflow) (1.4.0)\n",
      "Requirement already satisfied: astunparse>=1.6.0 in c:\\python311\\lib\\site-packages (from tensorflow-intel==2.15.0->tensorflow) (1.6.3)\n",
      "Requirement already satisfied: flatbuffers>=23.5.26 in c:\\python311\\lib\\site-packages (from tensorflow-intel==2.15.0->tensorflow) (23.5.26)\n",
      "Requirement already satisfied: gast!=0.5.0,!=0.5.1,!=0.5.2,>=0.2.1 in c:\\python311\\lib\\site-packages (from tensorflow-intel==2.15.0->tensorflow) (0.5.4)\n",
      "Requirement already satisfied: google-pasta>=0.1.1 in c:\\python311\\lib\\site-packages (from tensorflow-intel==2.15.0->tensorflow) (0.2.0)\n",
      "Requirement already satisfied: h5py>=2.9.0 in c:\\python311\\lib\\site-packages (from tensorflow-intel==2.15.0->tensorflow) (3.10.0)\n",
      "Requirement already satisfied: libclang>=13.0.0 in c:\\python311\\lib\\site-packages (from tensorflow-intel==2.15.0->tensorflow) (16.0.6)\n",
      "Requirement already satisfied: ml-dtypes~=0.2.0 in c:\\python311\\lib\\site-packages (from tensorflow-intel==2.15.0->tensorflow) (0.2.0)\n",
      "Requirement already satisfied: numpy<2.0.0,>=1.23.5 in c:\\python311\\lib\\site-packages (from tensorflow-intel==2.15.0->tensorflow) (1.24.2)\n",
      "Requirement already satisfied: opt-einsum>=2.3.2 in c:\\python311\\lib\\site-packages (from tensorflow-intel==2.15.0->tensorflow) (3.3.0)\n",
      "Requirement already satisfied: packaging in c:\\python311\\lib\\site-packages (from tensorflow-intel==2.15.0->tensorflow) (23.0)\n",
      "Requirement already satisfied: protobuf!=4.21.0,!=4.21.1,!=4.21.2,!=4.21.3,!=4.21.4,!=4.21.5,<5.0.0dev,>=3.20.3 in c:\\python311\\lib\\site-packages (from tensorflow-intel==2.15.0->tensorflow) (3.20.3)\n",
      "Requirement already satisfied: setuptools in c:\\python311\\lib\\site-packages (from tensorflow-intel==2.15.0->tensorflow) (65.5.0)\n",
      "Requirement already satisfied: six>=1.12.0 in c:\\python311\\lib\\site-packages (from tensorflow-intel==2.15.0->tensorflow) (1.16.0)\n",
      "Requirement already satisfied: termcolor>=1.1.0 in c:\\python311\\lib\\site-packages (from tensorflow-intel==2.15.0->tensorflow) (2.4.0)\n",
      "Requirement already satisfied: typing-extensions>=3.6.6 in c:\\users\\suzan.awinat\\appdata\\roaming\\python\\python311\\site-packages (from tensorflow-intel==2.15.0->tensorflow) (4.12.2)\n",
      "Requirement already satisfied: wrapt<1.15,>=1.11.0 in c:\\python311\\lib\\site-packages (from tensorflow-intel==2.15.0->tensorflow) (1.14.1)\n",
      "Requirement already satisfied: tensorflow-io-gcs-filesystem>=0.23.1 in c:\\python311\\lib\\site-packages (from tensorflow-intel==2.15.0->tensorflow) (0.31.0)\n",
      "Requirement already satisfied: grpcio<2.0,>=1.24.3 in c:\\python311\\lib\\site-packages (from tensorflow-intel==2.15.0->tensorflow) (1.60.1)\n",
      "Requirement already satisfied: tensorboard<2.16,>=2.15 in c:\\python311\\lib\\site-packages (from tensorflow-intel==2.15.0->tensorflow) (2.15.2)\n",
      "Requirement already satisfied: tensorflow-estimator<2.16,>=2.15.0 in c:\\python311\\lib\\site-packages (from tensorflow-intel==2.15.0->tensorflow) (2.15.0)\n",
      "Requirement already satisfied: keras<2.16,>=2.15.0 in c:\\python311\\lib\\site-packages (from tensorflow-intel==2.15.0->tensorflow) (2.15.0)\n",
      "Requirement already satisfied: wheel<1.0,>=0.23.0 in c:\\python311\\lib\\site-packages (from astunparse>=1.6.0->tensorflow-intel==2.15.0->tensorflow) (0.42.0)\n",
      "Requirement already satisfied: google-auth<3,>=1.6.3 in c:\\python311\\lib\\site-packages (from tensorboard<2.16,>=2.15->tensorflow-intel==2.15.0->tensorflow) (2.27.0)\n",
      "Requirement already satisfied: google-auth-oauthlib<2,>=0.5 in c:\\python311\\lib\\site-packages (from tensorboard<2.16,>=2.15->tensorflow-intel==2.15.0->tensorflow) (1.2.0)\n",
      "Requirement already satisfied: markdown>=2.6.8 in c:\\python311\\lib\\site-packages (from tensorboard<2.16,>=2.15->tensorflow-intel==2.15.0->tensorflow) (3.5.2)\n",
      "Requirement already satisfied: requests<3,>=2.21.0 in c:\\python311\\lib\\site-packages (from tensorboard<2.16,>=2.15->tensorflow-intel==2.15.0->tensorflow) (2.28.2)\n",
      "Requirement already satisfied: tensorboard-data-server<0.8.0,>=0.7.0 in c:\\python311\\lib\\site-packages (from tensorboard<2.16,>=2.15->tensorflow-intel==2.15.0->tensorflow) (0.7.2)\n",
      "Requirement already satisfied: werkzeug>=1.0.1 in c:\\python311\\lib\\site-packages (from tensorboard<2.16,>=2.15->tensorflow-intel==2.15.0->tensorflow) (3.0.1)\n",
      "Requirement already satisfied: cachetools<6.0,>=2.0.0 in c:\\python311\\lib\\site-packages (from google-auth<3,>=1.6.3->tensorboard<2.16,>=2.15->tensorflow-intel==2.15.0->tensorflow) (5.3.2)\n",
      "Requirement already satisfied: pyasn1-modules>=0.2.1 in c:\\python311\\lib\\site-packages (from google-auth<3,>=1.6.3->tensorboard<2.16,>=2.15->tensorflow-intel==2.15.0->tensorflow) (0.3.0)\n",
      "Requirement already satisfied: rsa<5,>=3.1.4 in c:\\python311\\lib\\site-packages (from google-auth<3,>=1.6.3->tensorboard<2.16,>=2.15->tensorflow-intel==2.15.0->tensorflow) (4.9)\n",
      "Requirement already satisfied: requests-oauthlib>=0.7.0 in c:\\python311\\lib\\site-packages (from google-auth-oauthlib<2,>=0.5->tensorboard<2.16,>=2.15->tensorflow-intel==2.15.0->tensorflow) (1.3.1)\n",
      "Requirement already satisfied: charset-normalizer<4,>=2 in c:\\python311\\lib\\site-packages (from requests<3,>=2.21.0->tensorboard<2.16,>=2.15->tensorflow-intel==2.15.0->tensorflow) (3.0.1)\n",
      "Requirement already satisfied: idna<4,>=2.5 in c:\\python311\\lib\\site-packages (from requests<3,>=2.21.0->tensorboard<2.16,>=2.15->tensorflow-intel==2.15.0->tensorflow) (3.4)\n",
      "Requirement already satisfied: urllib3<1.27,>=1.21.1 in c:\\python311\\lib\\site-packages (from requests<3,>=2.21.0->tensorboard<2.16,>=2.15->tensorflow-intel==2.15.0->tensorflow) (1.26.14)\n",
      "Requirement already satisfied: certifi>=2017.4.17 in c:\\python311\\lib\\site-packages (from requests<3,>=2.21.0->tensorboard<2.16,>=2.15->tensorflow-intel==2.15.0->tensorflow) (2022.12.7)\n",
      "Requirement already satisfied: MarkupSafe>=2.1.1 in c:\\python311\\lib\\site-packages (from werkzeug>=1.0.1->tensorboard<2.16,>=2.15->tensorflow-intel==2.15.0->tensorflow) (2.1.2)\n",
      "Requirement already satisfied: pyasn1<0.6.0,>=0.4.6 in c:\\python311\\lib\\site-packages (from pyasn1-modules>=0.2.1->google-auth<3,>=1.6.3->tensorboard<2.16,>=2.15->tensorflow-intel==2.15.0->tensorflow) (0.5.1)\n",
      "Requirement already satisfied: oauthlib>=3.0.0 in c:\\python311\\lib\\site-packages (from requests-oauthlib>=0.7.0->google-auth-oauthlib<2,>=0.5->tensorboard<2.16,>=2.15->tensorflow-intel==2.15.0->tensorflow) (3.2.2)\n"
     ]
    }
   ],
   "source": [
    "!pip install tensorflow"
   ]
  },
  {
   "cell_type": "code",
   "execution_count": 2,
   "id": "8c3fe6ff",
   "metadata": {},
   "outputs": [
    {
     "name": "stdout",
     "output_type": "stream",
     "text": [
      "Requirement already satisfied: tensorflow_datasets in c:\\python311\\lib\\site-packages (4.9.4)\n",
      "Requirement already satisfied: absl-py in c:\\python311\\lib\\site-packages (from tensorflow_datasets) (1.4.0)\n",
      "Requirement already satisfied: click in c:\\python311\\lib\\site-packages (from tensorflow_datasets) (8.1.3)\n",
      "Requirement already satisfied: dm-tree in c:\\python311\\lib\\site-packages (from tensorflow_datasets) (0.1.8)\n",
      "Requirement already satisfied: etils>=0.9.0 in c:\\python311\\lib\\site-packages (from etils[enp,epath,etree]>=0.9.0->tensorflow_datasets) (1.7.0)\n",
      "Requirement already satisfied: numpy in c:\\python311\\lib\\site-packages (from tensorflow_datasets) (1.24.2)\n",
      "Requirement already satisfied: promise in c:\\python311\\lib\\site-packages (from tensorflow_datasets) (2.3)\n",
      "Requirement already satisfied: protobuf>=3.20 in c:\\python311\\lib\\site-packages (from tensorflow_datasets) (3.20.3)\n",
      "Requirement already satisfied: psutil in c:\\python311\\lib\\site-packages (from tensorflow_datasets) (5.9.4)\n",
      "Requirement already satisfied: requests>=2.19.0 in c:\\python311\\lib\\site-packages (from tensorflow_datasets) (2.28.2)\n",
      "Requirement already satisfied: tensorflow-metadata in c:\\python311\\lib\\site-packages (from tensorflow_datasets) (1.14.0)\n",
      "Requirement already satisfied: termcolor in c:\\python311\\lib\\site-packages (from tensorflow_datasets) (2.4.0)\n",
      "Requirement already satisfied: toml in c:\\python311\\lib\\site-packages (from tensorflow_datasets) (0.10.2)\n",
      "Requirement already satisfied: tqdm in c:\\python311\\lib\\site-packages (from tensorflow_datasets) (4.64.1)\n",
      "Requirement already satisfied: wrapt in c:\\python311\\lib\\site-packages (from tensorflow_datasets) (1.14.1)\n",
      "Requirement already satisfied: fsspec in c:\\python311\\lib\\site-packages (from etils[enp,epath,etree]>=0.9.0->tensorflow_datasets) (2024.2.0)\n",
      "Requirement already satisfied: importlib_resources in c:\\python311\\lib\\site-packages (from etils[enp,epath,etree]>=0.9.0->tensorflow_datasets) (6.1.2)\n",
      "Requirement already satisfied: typing_extensions in c:\\users\\suzan.awinat\\appdata\\roaming\\python\\python311\\site-packages (from etils[enp,epath,etree]>=0.9.0->tensorflow_datasets) (4.12.2)\n",
      "Requirement already satisfied: zipp in c:\\python311\\lib\\site-packages (from etils[enp,epath,etree]>=0.9.0->tensorflow_datasets) (3.17.0)\n",
      "Requirement already satisfied: charset-normalizer<4,>=2 in c:\\python311\\lib\\site-packages (from requests>=2.19.0->tensorflow_datasets) (3.0.1)\n",
      "Requirement already satisfied: idna<4,>=2.5 in c:\\python311\\lib\\site-packages (from requests>=2.19.0->tensorflow_datasets) (3.4)\n",
      "Requirement already satisfied: urllib3<1.27,>=1.21.1 in c:\\python311\\lib\\site-packages (from requests>=2.19.0->tensorflow_datasets) (1.26.14)\n",
      "Requirement already satisfied: certifi>=2017.4.17 in c:\\python311\\lib\\site-packages (from requests>=2.19.0->tensorflow_datasets) (2022.12.7)\n",
      "Requirement already satisfied: colorama in c:\\python311\\lib\\site-packages (from click->tensorflow_datasets) (0.4.6)\n",
      "Requirement already satisfied: six in c:\\python311\\lib\\site-packages (from promise->tensorflow_datasets) (1.16.0)\n",
      "Requirement already satisfied: googleapis-common-protos<2,>=1.52.0 in c:\\python311\\lib\\site-packages (from tensorflow-metadata->tensorflow_datasets) (1.62.0)\n"
     ]
    }
   ],
   "source": [
    "!pip install tensorflow_datasets"
   ]
  },
  {
   "cell_type": "code",
   "execution_count": 3,
   "id": "75fde287",
   "metadata": {},
   "outputs": [
    {
     "name": "stdout",
     "output_type": "stream",
     "text": [
      "WARNING:tensorflow:From C:\\Python311\\Lib\\site-packages\\keras\\src\\losses.py:2976: The name tf.losses.sparse_softmax_cross_entropy is deprecated. Please use tf.compat.v1.losses.sparse_softmax_cross_entropy instead.\n",
      "\n"
     ]
    }
   ],
   "source": [
    "import tensorflow as tf\n",
    "import tensorflow_datasets as tfds\n",
    "\n",
    "import numpy as np\n",
    "import matplotlib.pyplot as plt\n"
   ]
  },
  {
   "cell_type": "code",
   "execution_count": 4,
   "id": "2c80a2e5",
   "metadata": {},
   "outputs": [],
   "source": [
    "# Obtain the imdb review dataset from tensorflow datasets\n",
    "dataset = tfds.load('imdb_reviews', as_supervised=True)\n",
    "\n",
    "# Seperate test and train datasets\n",
    "train_dataset, test_dataset = dataset['train'], dataset['test']\n",
    "\n",
    "# Split the test and train data into batches of 32\n",
    "# and shuffling the training set\n",
    "batch_size = 32\n",
    "train_dataset = train_dataset.shuffle(10000)\n",
    "train_dataset = train_dataset.batch(batch_size)\n",
    "test_dataset = test_dataset.batch(batch_size)\n"
   ]
  },
  {
   "cell_type": "code",
   "execution_count": 5,
   "id": "17161cca",
   "metadata": {},
   "outputs": [
    {
     "name": "stdout",
     "output_type": "stream",
     "text": [
      "Text:\n",
      " b\"Love this film also. Saw it when it was first shown i8n Germany in a small independent cinema in Frankfurt. It was really crowded and it was a very ambitious atmosphere to. The erotic of the movie hit the spectators and the discussion with Moritz Boerner the producer and director was always underlined by that. In his genre it was a very ambitious movie even especially when you think that it was an independent movie.<br /><br />It doesn't exist much copies of that film, Mortitz Boerner came from the theatre and made two or three short movies more worked for TV as well before he became a sort of therapist.<br /><br />For the people who wish to see that movie again, you could find it on his homepage which isn't that easy to search for but its possible.\"\n",
      "\n",
      "Label:  1\n"
     ]
    }
   ],
   "source": [
    "#iter function to create an iterator for the training dataset and then extracts the first batch\n",
    "example, label = next(iter(train_dataset))\n",
    "print('Text:\\n', example.numpy()[0])\n",
    "print('\\nLabel: ', label.numpy()[0])\n"
   ]
  },
  {
   "cell_type": "code",
   "execution_count": 6,
   "id": "7d1ffd60",
   "metadata": {},
   "outputs": [
    {
     "name": "stdout",
     "output_type": "stream",
     "text": [
      "WARNING:tensorflow:From C:\\Python311\\Lib\\site-packages\\keras\\src\\backend.py:873: The name tf.get_default_graph is deprecated. Please use tf.compat.v1.get_default_graph instead.\n",
      "\n"
     ]
    },
    {
     "name": "stderr",
     "output_type": "stream",
     "text": [
      "WARNING:tensorflow:From C:\\Python311\\Lib\\site-packages\\keras\\src\\backend.py:873: The name tf.get_default_graph is deprecated. Please use tf.compat.v1.get_default_graph instead.\n",
      "\n"
     ]
    },
    {
     "name": "stdout",
     "output_type": "stream",
     "text": [
      "WARNING:tensorflow:From C:\\Python311\\Lib\\site-packages\\keras\\src\\utils\\tf_utils.py:492: The name tf.ragged.RaggedTensorValue is deprecated. Please use tf.compat.v1.ragged.RaggedTensorValue instead.\n",
      "\n"
     ]
    },
    {
     "name": "stderr",
     "output_type": "stream",
     "text": [
      "WARNING:tensorflow:From C:\\Python311\\Lib\\site-packages\\keras\\src\\utils\\tf_utils.py:492: The name tf.ragged.RaggedTensorValue is deprecated. Please use tf.compat.v1.ragged.RaggedTensorValue instead.\n",
      "\n"
     ]
    },
    {
     "name": "stdout",
     "output_type": "stream",
     "text": [
      "original:  b\"Love this film also. Saw it when it was first shown i8n Germany in a small independent cinema in Frankfurt. It was really crowded and it was a very ambitious atmosphere to. The erotic of the movie hit the spectators and the discussion with Moritz Boerner the producer and director was always underlined by that. In his genre it was a very ambitious movie even especially when you think that it was an independent movie.<br /><br />It doesn't exist much copies of that film, Mortitz Boerner came from the theatre and made two or three short movies more worked for TV as well before he became a sort of therapist.<br /><br />For the people who wish to see that movie again, you could find it on his homepage which isn't that easy to search for but its possible.\"\n",
      "encoded:  [ 116   11   20   79  208    9   51    9   14   86  595    1 2342    8\n",
      "    4  386 1660  443    8    1    9   14   63 8508    3    9   14    4\n",
      "   53 3611  829    6    2 2582    5    2   18  625    2    1    3    2\n",
      " 3743   17    1    1    2 1475    3  172   14  203    1   33   12    8\n",
      "   25  533    9   14    4   53 3611   18   54  260   51   23  103   12\n",
      "    9   14   34 1660  692   13    9  145 1814   73 4695    5   12   20\n",
      "    1    1  366   36    2 1658    3   91  105   42  290  348   93   52\n",
      "  926   16  244   15   74  156   27  843    4  425    5    1   13   16\n",
      "    2   83   37  624    6   68   12   18  173   23   96  160    9   21\n",
      "   25    1   60  207   12  771    6 1710   16   19   30  621]\n",
      "decoded:  love this film also saw it when it was first shown [UNK] germany in a small independent cinema in [UNK] it was really crowded and it was a very ambitious atmosphere to the erotic of the movie hit the [UNK] and the discussion with [UNK] [UNK] the producer and director was always [UNK] by that in his genre it was a very ambitious movie even especially when you think that it was an independent moviebr br it doesnt exist much copies of that film [UNK] [UNK] came from the theatre and made two or three short movies more worked for tv as well before he became a sort of [UNK] br for the people who wish to see that movie again you could find it on his [UNK] which isnt that easy to search for but its possible\n"
     ]
    }
   ],
   "source": [
    "# Using the TextVectorization layer to normalize, split, and map strings\n",
    "# to integers.\n",
    "encoder = tf.keras.layers.TextVectorization(max_tokens=10000)\n",
    "encoder.adapt(train_dataset.map(lambda text, _: text))\n",
    "\n",
    "# Extracting the vocabulary from the TextVectorization layer.\n",
    "vocabulary = np.array(encoder.get_vocabulary())\n",
    "\n",
    "# Encoding a test example and decoding it back.\n",
    "original_text = example.numpy()[0]\n",
    "encoded_text = encoder(original_text).numpy()\n",
    "decoded_text = ' '.join(vocabulary[encoded_text])\n",
    "\n",
    "print('original: ', original_text)\n",
    "print('encoded: ', encoded_text)\n",
    "print('decoded: ', decoded_text)"
   ]
  },
  {
   "cell_type": "code",
   "execution_count": 7,
   "id": "c9a472d1",
   "metadata": {},
   "outputs": [
    {
     "name": "stdout",
     "output_type": "stream",
     "text": [
      "Model: \"sequential\"\n",
      "_________________________________________________________________\n",
      " Layer (type)                Output Shape              Param #   \n",
      "=================================================================\n",
      " text_vectorization (TextVe  (None, None)              0         \n",
      " ctorization)                                                    \n",
      "                                                                 \n",
      " embedding (Embedding)       (None, None, 64)          640000    \n",
      "                                                                 \n",
      " bidirectional (Bidirection  (None, None, 128)         66048     \n",
      " al)                                                             \n",
      "                                                                 \n",
      " bidirectional_1 (Bidirecti  (None, 64)                41216     \n",
      " onal)                                                           \n",
      "                                                                 \n",
      " dense (Dense)               (None, 64)                4160      \n",
      "                                                                 \n",
      " dense_1 (Dense)             (None, 1)                 65        \n",
      "                                                                 \n",
      "=================================================================\n",
      "Total params: 751489 (2.87 MB)\n",
      "Trainable params: 751489 (2.87 MB)\n",
      "Non-trainable params: 0 (0.00 Byte)\n",
      "_________________________________________________________________\n"
     ]
    }
   ],
   "source": [
    "# Creating the model\n",
    "model = tf.keras.Sequential([\n",
    "\tencoder,\n",
    "\ttf.keras.layers.Embedding(\n",
    "\t\tlen(encoder.get_vocabulary()), 64, mask_zero=True),\n",
    "\ttf.keras.layers.Bidirectional(\n",
    "\t\ttf.keras.layers.LSTM(64, return_sequences=True)),\n",
    "\ttf.keras.layers.Bidirectional(tf.keras.layers.LSTM(32)),\n",
    "\ttf.keras.layers.Dense(64, activation='relu'),\n",
    "\ttf.keras.layers.Dense(1)\n",
    "])\n",
    "\n",
    "# Summary of the model\n",
    "model.summary()\n",
    "\n",
    "# Compile the model\n",
    "model.compile(\n",
    "\tloss=tf.keras.losses.BinaryCrossentropy(from_logits=True),\n",
    "\toptimizer=tf.keras.optimizers.Adam(),\n",
    "\tmetrics=['accuracy']\n",
    ")"
   ]
  },
  {
   "cell_type": "code",
   "execution_count": 8,
   "id": "8d8184f6",
   "metadata": {},
   "outputs": [
    {
     "name": "stdout",
     "output_type": "stream",
     "text": [
      "Epoch 1/5\n",
      "WARNING:tensorflow:From C:\\Python311\\Lib\\site-packages\\keras\\src\\engine\\base_layer_utils.py:384: The name tf.executing_eagerly_outside_functions is deprecated. Please use tf.compat.v1.executing_eagerly_outside_functions instead.\n",
      "\n"
     ]
    },
    {
     "name": "stderr",
     "output_type": "stream",
     "text": [
      "WARNING:tensorflow:From C:\\Python311\\Lib\\site-packages\\keras\\src\\engine\\base_layer_utils.py:384: The name tf.executing_eagerly_outside_functions is deprecated. Please use tf.compat.v1.executing_eagerly_outside_functions instead.\n",
      "\n"
     ]
    },
    {
     "name": "stdout",
     "output_type": "stream",
     "text": [
      "782/782 [==============================] - 1437s 2s/step - loss: 0.4226 - accuracy: 0.7972 - val_loss: 0.3353 - val_accuracy: 0.8637\n",
      "Epoch 2/5\n",
      "782/782 [==============================] - 1672s 2s/step - loss: 0.2717 - accuracy: 0.8878 - val_loss: 0.3175 - val_accuracy: 0.8612\n",
      "Epoch 3/5\n",
      "782/782 [==============================] - 2450s 3s/step - loss: 0.1856 - accuracy: 0.9281 - val_loss: 0.3355 - val_accuracy: 0.8764\n",
      "Epoch 4/5\n",
      "782/782 [==============================] - 3125s 4s/step - loss: 0.1191 - accuracy: 0.9562 - val_loss: 0.3496 - val_accuracy: 0.8719\n",
      "Epoch 5/5\n",
      "782/782 [==============================] - 3048s 4s/step - loss: 0.0775 - accuracy: 0.9732 - val_loss: 0.4705 - val_accuracy: 0.8582\n"
     ]
    }
   ],
   "source": [
    "# Training the model and validating it on test set\n",
    "history = model.fit(\n",
    "\ttrain_dataset, \n",
    "\tepochs=5,\n",
    "\tvalidation_data=test_dataset,\n",
    ")"
   ]
  },
  {
   "cell_type": "code",
   "execution_count": 9,
   "id": "ab186a51",
   "metadata": {},
   "outputs": [
    {
     "data": {
      "image/png": "[encoded data removed]",
      "text/plain": [
       "<Figure size 800x400 with 2 Axes>"
      ]
     },
     "metadata": {},
     "output_type": "display_data"
    }
   ],
   "source": [
    "# Plotting the accuracy and loss over time\n",
    "\n",
    "# Training history\n",
    "history_dict = history.history\n",
    "\n",
    "# Seperating validation and training accuracy\n",
    "acc = history_dict['accuracy']\n",
    "val_acc = history_dict['val_accuracy']\n",
    "\n",
    "# Seperating validation and training loss\n",
    "loss = history_dict['loss']\n",
    "val_loss = history_dict['val_loss']\n",
    "\n",
    "# Plotting\n",
    "plt.figure(figsize=(8, 4))\n",
    "plt.subplot(1, 2, 1)\n",
    "plt.plot(acc)\n",
    "plt.plot(val_acc)\n",
    "plt.title('Training and Validation Accuracy')\n",
    "plt.xlabel('Epochs')\n",
    "plt.ylabel('Accuracy')\n",
    "plt.legend(['Accuracy', 'Validation Accuracy'])\n",
    "\n",
    "plt.subplot(1, 2, 2)\n",
    "plt.plot(loss)\n",
    "plt.plot(val_loss)\n",
    "plt.title('Training and Validation Loss')\n",
    "plt.xlabel('Epochs')\n",
    "plt.ylabel('Loss')\n",
    "plt.legend(['Loss', 'Validation Loss'])\n",
    "\n",
    "plt.show()\n"
   ]
  },
  {
   "cell_type": "code",
   "execution_count": 13,
   "id": "8721fec7",
   "metadata": {},
   "outputs": [
    {
     "name": "stdout",
     "output_type": "stream",
     "text": [
      "1/1 [==============================] - 0s 338ms/step\n",
      "1.267891\n",
      "The review is positive\n"
     ]
    }
   ],
   "source": [
    "# Making predictions\n",
    "sample_text = (\n",
    "\t'''Oh, the food was just amazing! If you enjoy waiting two hours for a cold meal that tastes like cardboard,  \n",
    "\tthen this is definitely the place for you. The ambiance was perfect too,\n",
    "\tif you're into dimly lit rooms that make you feel like you're dining in a cave. Five stars for sure!'''\n",
    ")\n",
    "predictions = model.predict(np.array([sample_text]))\n",
    "print(*predictions[0])\n",
    "\n",
    "# Print the label based on the prediction\n",
    "if predictions[0] > 0:\n",
    "\tprint('The review is positive')\n",
    "else:\n",
    "\tprint('The review is negative')\n"
   ]
  },
  {
   "cell_type": "code",
   "execution_count": null,
   "id": "4e3b7597",
   "metadata": {},
   "outputs": [],
   "source": []
  }
 ],
 "metadata": {
  "kernelspec": {
   "display_name": "Python 3 (ipykernel)",
   "language": "python",
   "name": "python3"
  },
  "language_info": {
   "codemirror_mode": {
    "name": "ipython",
    "version": 3
   },
   "file_extension": ".py",
   "mimetype": "text/x-python",
   "name": "python",
   "nbconvert_exporter": "python",
   "pygments_lexer": "ipython3",
   "version": "3.11.1"
  }
 },
 "nbformat": 4,
 "nbformat_minor": 5
}
