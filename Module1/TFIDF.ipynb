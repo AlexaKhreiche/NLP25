{
 "cells": [
  {
   "cell_type": "code",
   "execution_count": 2,
   "id": "054f132b",
   "metadata": {},
   "outputs": [
    {
     "name": "stdout",
     "output_type": "stream",
     "text": [
      "Collecting tmtoolkit\n",
      "  Downloading tmtoolkit-0.12.0-py3-none-any.whl.metadata (14 kB)\n",
      "Requirement already satisfied: numpy<2.0,>=1.23.0 in c:\\python311\\lib\\site-packages (from tmtoolkit) (1.24.2)\n",
      "Requirement already satisfied: scipy<2.0,>=1.7.0 in c:\\python311\\lib\\site-packages (from tmtoolkit) (1.10.1)\n",
      "Collecting globre<0.2,>=0.1.5 (from tmtoolkit)\n",
      "  Downloading globre-0.1.5.tar.gz (20 kB)\n",
      "  Preparing metadata (setup.py): started\n",
      "  Preparing metadata (setup.py): finished with status 'done'\n",
      "Requirement already satisfied: pandas<3.0,>=1.4.0 in c:\\python311\\lib\\site-packages (from tmtoolkit) (1.5.3)\n",
      "Collecting xlrd>=2.0.0 (from tmtoolkit)\n",
      "  Downloading xlrd-2.0.1-py2.py3-none-any.whl.metadata (3.4 kB)\n",
      "Collecting openpyxl<4.0,>=3.0.0 (from tmtoolkit)\n",
      "  Downloading openpyxl-3.1.5-py2.py3-none-any.whl.metadata (2.5 kB)\n",
      "Requirement already satisfied: matplotlib<4.0,>=3.5.0 in c:\\python311\\lib\\site-packages (from tmtoolkit) (3.7.1)\n",
      "Collecting bidict<1.0,>=0.21.0 (from tmtoolkit)\n",
      "  Downloading bidict-0.23.1-py3-none-any.whl.metadata (8.7 kB)\n",
      "Requirement already satisfied: wheel<1.0,>=0.40 in c:\\python311\\lib\\site-packages (from tmtoolkit) (0.42.0)\n",
      "Requirement already satisfied: contourpy>=1.0.1 in c:\\python311\\lib\\site-packages (from matplotlib<4.0,>=3.5.0->tmtoolkit) (1.0.7)\n",
      "Requirement already satisfied: cycler>=0.10 in c:\\python311\\lib\\site-packages (from matplotlib<4.0,>=3.5.0->tmtoolkit) (0.11.0)\n",
      "Requirement already satisfied: fonttools>=4.22.0 in c:\\python311\\lib\\site-packages (from matplotlib<4.0,>=3.5.0->tmtoolkit) (4.38.0)\n",
      "Requirement already satisfied: kiwisolver>=1.0.1 in c:\\python311\\lib\\site-packages (from matplotlib<4.0,>=3.5.0->tmtoolkit) (1.4.4)\n",
      "Requirement already satisfied: packaging>=20.0 in c:\\python311\\lib\\site-packages (from matplotlib<4.0,>=3.5.0->tmtoolkit) (23.0)\n",
      "Requirement already satisfied: pillow>=6.2.0 in c:\\python311\\lib\\site-packages (from matplotlib<4.0,>=3.5.0->tmtoolkit) (9.4.0)\n",
      "Requirement already satisfied: pyparsing>=2.3.1 in c:\\python311\\lib\\site-packages (from matplotlib<4.0,>=3.5.0->tmtoolkit) (3.0.9)\n",
      "Requirement already satisfied: python-dateutil>=2.7 in c:\\python311\\lib\\site-packages (from matplotlib<4.0,>=3.5.0->tmtoolkit) (2.8.2)\n",
      "Collecting et-xmlfile (from openpyxl<4.0,>=3.0.0->tmtoolkit)\n",
      "  Downloading et_xmlfile-2.0.0-py3-none-any.whl.metadata (2.7 kB)\n",
      "Requirement already satisfied: pytz>=2020.1 in c:\\python311\\lib\\site-packages (from pandas<3.0,>=1.4.0->tmtoolkit) (2022.7.1)\n",
      "Requirement already satisfied: six>=1.5 in c:\\python311\\lib\\site-packages (from python-dateutil>=2.7->matplotlib<4.0,>=3.5.0->tmtoolkit) (1.16.0)\n",
      "Downloading tmtoolkit-0.12.0-py3-none-any.whl (10.5 MB)\n",
      "   ---------------------------------------- 0.0/10.5 MB ? eta -:--:--\n",
      "   --- ------------------------------------ 0.9/10.5 MB 19.8 MB/s eta 0:00:01\n",
      "   --- ------------------------------------ 1.0/10.5 MB 22.0 MB/s eta 0:00:01\n",
      "   --- ------------------------------------ 1.0/10.5 MB 22.0 MB/s eta 0:00:01\n",
      "   ------- -------------------------------- 2.1/10.5 MB 12.1 MB/s eta 0:00:01\n",
      "   -------- ------------------------------- 2.3/10.5 MB 9.8 MB/s eta 0:00:01\n",
      "   ----------- ---------------------------- 3.1/10.5 MB 11.8 MB/s eta 0:00:01\n",
      "   ------------ --------------------------- 3.2/10.5 MB 9.8 MB/s eta 0:00:01\n",
      "   ------------ --------------------------- 3.3/10.5 MB 8.9 MB/s eta 0:00:01\n",
      "   ------------ --------------------------- 3.4/10.5 MB 8.4 MB/s eta 0:00:01\n",
      "   ------------- -------------------------- 3.5/10.5 MB 7.9 MB/s eta 0:00:01\n",
      "   --------------- ------------------------ 4.2/10.5 MB 8.1 MB/s eta 0:00:01\n",
      "   --------------- ------------------------ 4.2/10.5 MB 8.1 MB/s eta 0:00:01\n",
      "   ---------------- ----------------------- 4.4/10.5 MB 7.3 MB/s eta 0:00:01\n",
      "   ------------------- -------------------- 5.2/10.5 MB 8.0 MB/s eta 0:00:01\n",
      "   ------------------- -------------------- 5.2/10.5 MB 8.0 MB/s eta 0:00:01\n",
      "   --------------------- ------------------ 5.6/10.5 MB 7.5 MB/s eta 0:00:01\n",
      "   ----------------------- ---------------- 6.3/10.5 MB 8.0 MB/s eta 0:00:01\n",
      "   ------------------------ --------------- 6.6/10.5 MB 7.7 MB/s eta 0:00:01\n",
      "   --------------------------- ------------ 7.3/10.5 MB 8.2 MB/s eta 0:00:01\n",
      "   ---------------------------- ----------- 7.6/10.5 MB 7.9 MB/s eta 0:00:01\n",
      "   ------------------------------- -------- 8.4/10.5 MB 8.5 MB/s eta 0:00:01\n",
      "   ------------------------------- -------- 8.4/10.5 MB 8.5 MB/s eta 0:00:01\n",
      "   ----------------------------------- ---- 9.4/10.5 MB 8.6 MB/s eta 0:00:01\n",
      "   ----------------------------------- ---- 9.4/10.5 MB 8.5 MB/s eta 0:00:01\n",
      "   -------------------------------------- - 10.0/10.5 MB 8.4 MB/s eta 0:00:01\n",
      "   ---------------------------------------  10.5/10.5 MB 8.6 MB/s eta 0:00:01\n",
      "   ---------------------------------------  10.5/10.5 MB 8.6 MB/s eta 0:00:01\n",
      "   ---------------------------------------  10.5/10.5 MB 8.6 MB/s eta 0:00:01\n",
      "   ---------------------------------------  10.5/10.5 MB 8.6 MB/s eta 0:00:01\n",
      "   ---------------------------------------- 10.5/10.5 MB 7.4 MB/s eta 0:00:00\n",
      "Downloading bidict-0.23.1-py3-none-any.whl (32 kB)\n",
      "Downloading openpyxl-3.1.5-py2.py3-none-any.whl (250 kB)\n",
      "   ---------------------------------------- 0.0/250.9 kB ? eta -:--:--\n",
      "   ---------------------------------------- 250.9/250.9 kB 7.8 MB/s eta 0:00:00\n",
      "Downloading xlrd-2.0.1-py2.py3-none-any.whl (96 kB)\n",
      "   ---------------------------------------- 0.0/96.5 kB ? eta -:--:--\n",
      "   ---------------------------------------- 96.5/96.5 kB 5.8 MB/s eta 0:00:00\n",
      "Downloading et_xmlfile-2.0.0-py3-none-any.whl (18 kB)\n",
      "Building wheels for collected packages: globre\n",
      "  Building wheel for globre (setup.py): started\n",
      "  Building wheel for globre (setup.py): finished with status 'done'\n",
      "  Created wheel for globre: filename=globre-0.1.5-py3-none-any.whl size=19574 sha256=e78961fac78459ba0689218c18103e8505a12b49aa8c7b4f85c71b8da4564556\n",
      "  Stored in directory: c:\\users\\suzan.awinat\\appdata\\local\\pip\\cache\\wheels\\71\\cf\\b4\\19548cbf0c2fdd913452d49948163ab9313a20fc454515d429\n",
      "Successfully built globre\n",
      "Installing collected packages: globre, xlrd, et-xmlfile, bidict, openpyxl, tmtoolkit\n",
      "Successfully installed bidict-0.23.1 et-xmlfile-2.0.0 globre-0.1.5 openpyxl-3.1.5 tmtoolkit-0.12.0 xlrd-2.0.1\n",
      "Note: you may need to restart the kernel to use updated packages.\n"
     ]
    },
    {
     "name": "stderr",
     "output_type": "stream",
     "text": [
      "\n",
      "[notice] A new release of pip is available: 24.0 -> 24.3.1\n",
      "[notice] To update, run: python.exe -m pip install --upgrade pip\n"
     ]
    }
   ],
   "source": [
    "pip install tmtoolkit"
   ]
  },
  {
   "cell_type": "code",
   "execution_count": 2,
   "id": "1973cb14",
   "metadata": {},
   "outputs": [
    {
     "name": "stdout",
     "output_type": "stream",
     "text": [
      "[[0.         0.         0.         0.22907268 0.22907268 0.\n",
      "  0.22907268 0.22907268 0.         0.        ]\n",
      " [0.30543024 0.         0.         0.         0.         0.\n",
      "  0.         0.         0.30543024 0.30543024]\n",
      " [0.         0.30543024 0.30543024 0.         0.         0.30543024\n",
      "  0.         0.         0.         0.        ]]\n"
     ]
    }
   ],
   "source": [
    "import numpy as np\n",
    "from sklearn.feature_extraction.text import CountVectorizer\n",
    "from tmtoolkit.bow.bow_stats import tfidf\n",
    "\n",
    "# Define the sentences\n",
    "data = [\"I love natural language processing\", \n",
    "        \"Creating word vectors\",\n",
    "        \"Is my jam!\"]\n",
    "\n",
    "# Create a document-term matrix (DTM) using CountVectorizer\n",
    "vectorizer = CountVectorizer()\n",
    "dtm = vectorizer.fit_transform(data).toarray()\n",
    "\n",
    "# Calculate TF-IDF using the tfidf function from tmtoolkit\n",
    "vectorized_data = tfidf(dtm)\n",
    "\n",
    "# Print the TF-IDF vectors\n",
    "print(vectorized_data)\n"
   ]
  },
  {
   "cell_type": "code",
   "execution_count": null,
   "id": "8a771db2",
   "metadata": {},
   "outputs": [],
   "source": []
  }
 ],
 "metadata": {
  "kernelspec": {
   "display_name": "Python 3 (ipykernel)",
   "language": "python",
   "name": "python3"
  },
  "language_info": {
   "codemirror_mode": {
    "name": "ipython",
    "version": 3
   },
   "file_extension": ".py",
   "mimetype": "text/x-python",
   "name": "python",
   "nbconvert_exporter": "python",
   "pygments_lexer": "ipython3",
   "version": "3.11.1"
  }
 },
 "nbformat": 4,
 "nbformat_minor": 5
}
