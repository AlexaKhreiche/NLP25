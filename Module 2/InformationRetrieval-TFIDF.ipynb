{
 "cells": [
  {
   "cell_type": "code",
   "execution_count": 3,
   "id": "1eb1ea24",
   "metadata": {},
   "outputs": [
    {
     "name": "stdout",
     "output_type": "stream",
     "text": [
      "Query: How many cats do I have?\n",
      "\n",
      "Search Results:\n",
      "1. Document 2: I have two cats\n",
      "   Cosine Similarity: 0.3253\n",
      "\n",
      "2. Document 3: I hate cats\n",
      "   Cosine Similarity: 0.1041\n",
      "\n",
      "3. Document 1: Cats are lovely\n",
      "   Cosine Similarity: 0.0841\n",
      "\n",
      "4. Document 4: cats are clever than dogs\n",
      "   Cosine Similarity: 0.0586\n",
      "\n"
     ]
    }
   ],
   "source": [
    "from sklearn.feature_extraction.text import TfidfVectorizer\n",
    "from sklearn.metrics.pairwise import cosine_similarity\n",
    "\n",
    "# Sample documents\n",
    "documents = [\n",
    "    \"I am happy today\",\n",
    "    \"I have two cats\",\n",
    "    \"I hate cats\",\n",
    "    \"cats are clever than dogs\",\n",
    "]\n",
    "\n",
    "# Query\n",
    "query = \"How many cats do I have?\"\n",
    "\n",
    "# Combine the query with the documents for TF-IDF vectorization\n",
    "documents.append(query)\n",
    "\n",
    "# TF-IDF Vectorization\n",
    "tfidf_vectorizer = TfidfVectorizer()\n",
    "tfidf_matrix = tfidf_vectorizer.fit_transform(documents)\n",
    "\n",
    "# Calculate cosine similarity between the query and documents\n",
    "cosine_similarities = cosine_similarity(tfidf_matrix[-1], tfidf_matrix[:-1]).flatten()\n",
    "\n",
    "# Sort documents by similarity scores\n",
    "result_indices = cosine_similarities.argsort()[::-1]\n",
    "\n",
    "# Display the ranked documents based on similarity scores\n",
    "print(\"Query:\", query)\n",
    "print(\"\\nSearch Results:\")\n",
    "for i, index in enumerate(result_indices):\n",
    "    print(f\"{i + 1}. Document {index + 1}: {documents[index]}\")\n",
    "    print(f\"   Cosine Similarity: {cosine_similarities[index]:.4f}\\n\")\n"
   ]
  },
  {
   "cell_type": "code",
   "execution_count": 2,
   "id": "d9208b56",
   "metadata": {},
   "outputs": [
    {
     "name": "stdout",
     "output_type": "stream",
     "text": [
      "Document 2: Similarity = 0.9505\n",
      "   This document is the second document.\n",
      "\n",
      "Document 1: Similarity = 0.6042\n",
      "   This is the first document.\n",
      "\n",
      "Document 4: Similarity = 0.6042\n",
      "   Is this the first document?\n",
      "\n",
      "Document 3: Similarity = 0.2804\n",
      "   And this is the third one.\n",
      "\n"
     ]
    }
   ],
   "source": [
    "from sklearn.feature_extraction.text import TfidfVectorizer\n",
    "from sklearn.metrics.pairwise import cosine_similarity\n",
    "\n",
    "# Sample documents\n",
    "documents = [\n",
    "    \"This is the first document.\",\n",
    "    \"This document is the second document.\",\n",
    "    \"And this is the third one.\",\n",
    "    \"Is this the first document?\"\n",
    "]\n",
    "\n",
    "# Step 1: Create TF-IDF Vectorizer\n",
    "tfidf_vectorizer = TfidfVectorizer()\n",
    "tfidf_matrix = tfidf_vectorizer.fit_transform(documents)\n",
    "\n",
    "# Step 2: Compute Cosine Similarity\n",
    "query = \"This is the second document.\"\n",
    "query_vector = tfidf_vectorizer.transform([query])\n",
    "\n",
    "cosine_similarities = cosine_similarity(query_vector, tfidf_matrix).flatten()\n",
    "\n",
    "# Step 3: Display Results\n",
    "sorted_similarities = sorted(enumerate(cosine_similarities), key=lambda x: x[1], reverse=True)\n",
    "\n",
    "for index, similarity in sorted_similarities:\n",
    "    print(f\"Document {index + 1}: Similarity = {similarity:.4f}\")\n",
    "    print(f\"   {documents[index]}\")\n",
    "    print()\n"
   ]
  },
  {
   "cell_type": "code",
   "execution_count": null,
   "id": "d3638260",
   "metadata": {},
   "outputs": [],
   "source": []
  }
 ],
 "metadata": {
  "kernelspec": {
   "display_name": "Python 3 (ipykernel)",
   "language": "python",
   "name": "python3"
  },
  "language_info": {
   "codemirror_mode": {
    "name": "ipython",
    "version": 3
   },
   "file_extension": ".py",
   "mimetype": "text/x-python",
   "name": "python",
   "nbconvert_exporter": "python",
   "pygments_lexer": "ipython3",
   "version": "3.11.1"
  }
 },
 "nbformat": 4,
 "nbformat_minor": 5
}
