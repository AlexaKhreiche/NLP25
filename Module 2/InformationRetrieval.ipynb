{
 "cells": [
  {
   "cell_type": "markdown",
   "id": "ef83dbd8",
   "metadata": {},
   "source": [
    "Importing the libraries "
   ]
  },
  {
   "cell_type": "code",
   "execution_count": 4,
   "id": "010ccd49",
   "metadata": {},
   "outputs": [],
   "source": [
    "import nltk\n",
    "from nltk.corpus import stopwords\n",
    "from sklearn.feature_extraction.text import TfidfVectorizer\n",
    "from sklearn.metrics.pairwise import cosine_similarity\n",
    "import string"
   ]
  },
  {
   "cell_type": "markdown",
   "id": "212837f4",
   "metadata": {},
   "source": [
    "Download NLTK resources"
   ]
  },
  {
   "cell_type": "code",
   "execution_count": 5,
   "id": "af0b3219",
   "metadata": {},
   "outputs": [
    {
     "name": "stderr",
     "output_type": "stream",
     "text": [
      "[nltk_data] Downloading package stopwords to\n",
      "[nltk_data]     C:\\Users\\suzan.awinat/nltk_data...\n",
      "[nltk_data]   Package stopwords is already up-to-date!\n"
     ]
    },
    {
     "data": {
      "text/plain": [
       "True"
      ]
     },
     "execution_count": 5,
     "metadata": {},
     "output_type": "execute_result"
    }
   ],
   "source": [
    "nltk.download('stopwords')"
   ]
  },
  {
   "cell_type": "markdown",
   "id": "4d6f3da0",
   "metadata": {},
   "source": [
    "Sample documents"
   ]
  },
  {
   "cell_type": "code",
   "execution_count": 6,
   "id": "1da29c6f",
   "metadata": {},
   "outputs": [],
   "source": [
    "documents = [\n",
    "    \"Introduction to Information Retrieval\",\n",
    "    \"Vector Space Models in Practice\",\n",
    "    \"Building Search Engines with Python\",\n",
    "    \"Applications of Information Retrieval\",\n",
    "    \"Understanding Cosine Similarity\"\n",
    "]"
   ]
  },
  {
   "cell_type": "markdown",
   "id": "0a3acc87",
   "metadata": {},
   "source": [
    "Preprocessing function"
   ]
  },
  {
   "cell_type": "code",
   "execution_count": 7,
   "id": "fc509dba",
   "metadata": {},
   "outputs": [],
   "source": [
    "def preprocess_text(text):\n",
    "    # Convert to lowercase\n",
    "    text = text.lower()\n",
    "    # Remove punctuation\n",
    "    text = text.translate(str.maketrans(\"\", \"\", string.punctuation))\n",
    "    # Tokenization\n",
    "    tokens = nltk.word_tokenize(text)\n",
    "    # Remove stop words\n",
    "    stop_words = set(stopwords.words('english'))\n",
    "    tokens = [word for word in tokens if word not in stop_words]\n",
    "    # Lemmatization (optional)\n",
    "    lemmatizer = nltk.WordNetLemmatizer()\n",
    "    tokens = [lemmatizer.lemmatize(word) for word in tokens]\n",
    "    return \" \".join(tokens)"
   ]
  },
  {
   "cell_type": "markdown",
   "id": "175ec64a",
   "metadata": {},
   "source": [
    "Apply preprocessing to each document"
   ]
  },
  {
   "cell_type": "code",
   "execution_count": 11,
   "id": "0a1a13d5",
   "metadata": {},
   "outputs": [
    {
     "name": "stdout",
     "output_type": "stream",
     "text": [
      "['introduction information retrieval', 'vector space model practice', 'building search engine python', 'application information retrieval', 'understanding cosine similarity']\n"
     ]
    }
   ],
   "source": [
    "preprocessed_documents = [preprocess_text(doc) for doc in documents]\n",
    "print(preprocessed_documents)"
   ]
  },
  {
   "cell_type": "markdown",
   "id": "fe0ae5b3",
   "metadata": {},
   "source": [
    "Create a TF-IDF Vectorizer"
   ]
  },
  {
   "cell_type": "code",
   "execution_count": 12,
   "id": "f7fe29e4",
   "metadata": {},
   "outputs": [],
   "source": [
    "vectorizer = TfidfVectorizer()\n",
    "tfidf_matrix = vectorizer.fit_transform(preprocessed_documents)"
   ]
  },
  {
   "cell_type": "code",
   "execution_count": 13,
   "id": "a56afb21",
   "metadata": {},
   "outputs": [],
   "source": [
    "# User query\n",
    "user_query = \"Introduction to Python programming\"\n",
    "preprocessed_query = preprocess_text(user_query)\n",
    "\n",
    "# Transform the user query using the same vectorizer\n",
    "query_vector = vectorizer.transform([preprocessed_query])"
   ]
  },
  {
   "cell_type": "markdown",
   "id": "ada8b1d7",
   "metadata": {},
   "source": [
    "Calculate cosine similarity between the query and documents"
   ]
  },
  {
   "cell_type": "code",
   "execution_count": 15,
   "id": "b5a672db",
   "metadata": {},
   "outputs": [],
   "source": [
    "cosine_similarities = cosine_similarity(query_vector, tfidf_matrix).flatten()"
   ]
  },
  {
   "cell_type": "markdown",
   "id": "e0ca4011",
   "metadata": {},
   "source": [
    "Rank documents based on similarity"
   ]
  },
  {
   "cell_type": "code",
   "execution_count": 16,
   "id": "f895ee49",
   "metadata": {},
   "outputs": [
    {
     "name": "stdout",
     "output_type": "stream",
     "text": [
      "Ranked Documents after Preprocessing:\n",
      "Document 1: Similarity = 0.4661 - 'Introduction to Information Retrieval'\n",
      "Document 3: Similarity = 0.3536 - 'Building Search Engines with Python'\n",
      "Document 2: Similarity = 0.0000 - 'Vector Space Models in Practice'\n",
      "Document 4: Similarity = 0.0000 - 'Applications of Information Retrieval'\n",
      "Document 5: Similarity = 0.0000 - 'Understanding Cosine Similarity'\n"
     ]
    }
   ],
   "source": [
    "document_ranks = sorted(enumerate(cosine_similarities), key=lambda x: x[1], reverse=True)\n",
    "\n",
    "# Display the ranked documents\n",
    "print(\"Ranked Documents after Preprocessing:\")\n",
    "for index, similarity in document_ranks:\n",
    "    print(f\"Document {index + 1}: Similarity = {similarity:.4f} - '{documents[index]}'\")\n"
   ]
  },
  {
   "cell_type": "code",
   "execution_count": null,
   "id": "3b47a824",
   "metadata": {},
   "outputs": [],
   "source": []
  }
 ],
 "metadata": {
  "kernelspec": {
   "display_name": "Python 3 (ipykernel)",
   "language": "python",
   "name": "python3"
  },
  "language_info": {
   "codemirror_mode": {
    "name": "ipython",
    "version": 3
   },
   "file_extension": ".py",
   "mimetype": "text/x-python",
   "name": "python",
   "nbconvert_exporter": "python",
   "pygments_lexer": "ipython3",
   "version": "3.11.1"
  }
 },
 "nbformat": 4,
 "nbformat_minor": 5
}
