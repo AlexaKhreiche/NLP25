{
 "cells": [
  {
   "cell_type": "code",
   "execution_count": 1,
   "id": "0a9c88c7",
   "metadata": {},
   "outputs": [],
   "source": [
    "import gensim.downloader as api"
   ]
  },
  {
   "cell_type": "code",
   "execution_count": 2,
   "id": "74d937d8",
   "metadata": {},
   "outputs": [
    {
     "name": "stdout",
     "output_type": "stream",
     "text": [
      "__testing_word2vec-matrix-synopsis (-1 record): [THIS IS ONLY FOR TESTING] Word vecrors ...\n",
      "conceptnet-numberbatch-17-06-300 (1917247 record): ConceptNet Numberbatch consists of state...\n",
      "fasttext-wiki-news-subwords-300 (999999 record): 1 million word vectors trained on Wikipe...\n",
      "glove-twitter-100 (1193514 record): Pre-trained vectors based on  2B tweets,...\n",
      "glove-twitter-200 (1193514 record): Pre-trained vectors based on 2B tweets, ...\n",
      "glove-twitter-25 (1193514 record): Pre-trained vectors based on 2B tweets, ...\n",
      "glove-twitter-50 (1193514 record): Pre-trained vectors based on 2B tweets, ...\n",
      "glove-wiki-gigaword-100 (400000 record): Pre-trained vectors based on Wikipedia 2...\n",
      "glove-wiki-gigaword-200 (400000 record): Pre-trained vectors based on Wikipedia 2...\n",
      "glove-wiki-gigaword-300 (400000 record): Pre-trained vectors based on Wikipedia 2...\n",
      "glove-wiki-gigaword-50 (400000 record): Pre-trained vectors based on Wikipedia 2...\n",
      "word2vec-google-news-300 (3000000 record): Pre-trained vectors trained on a part of...\n",
      "word2vec-ruscorpora-300 (184973 record): Word2vec Continuous Skipgram vectors tra...\n"
     ]
    }
   ],
   "source": [
    "info= api.info()\n",
    "for model_name, model_data in sorted(info['models'].items()):\n",
    "    print(\n",
    "    '%s (%d record): %s' %(\n",
    "        model_name,\n",
    "        model_data.get('num_records',-1),\n",
    "        model_data['description'][:40]+'...'\n",
    "        )\n",
    "    )"
   ]
  },
  {
   "cell_type": "code",
   "execution_count": 3,
   "id": "fd9a32f6",
   "metadata": {},
   "outputs": [],
   "source": [
    "wv=api.load('word2vec-google-news-300')"
   ]
  },
  {
   "cell_type": "code",
   "execution_count": 4,
   "id": "78286c43",
   "metadata": {},
   "outputs": [
    {
     "name": "stdout",
     "output_type": "stream",
     "text": [
      "[==================================================] 100.0% 199.5/199.5MB downloaded\n"
     ]
    }
   ],
   "source": [
    "glove=api.load('glove-twitter-50')"
   ]
  },
  {
   "cell_type": "code",
   "execution_count": 5,
   "id": "07159a0c",
   "metadata": {},
   "outputs": [
    {
     "data": {
      "text/plain": [
       "[('Tea', 0.7009038329124451),\n",
       " ('teas', 0.6727380156517029),\n",
       " ('shape_Angius', 0.6323482990264893),\n",
       " ('activist_Jamie_Radtke', 0.5863860249519348),\n",
       " ('decaffeinated_brew', 0.5839536190032959),\n",
       " ('planter_bungalow', 0.575829029083252),\n",
       " ('herbal_tea', 0.5731174349784851),\n",
       " ('coffee', 0.5635291934013367),\n",
       " ('jasmine_tea', 0.548339307308197),\n",
       " ('Tea_NASDAQ_PEET', 0.5402544140815735)]"
      ]
     },
     "execution_count": 5,
     "metadata": {},
     "output_type": "execute_result"
    }
   ],
   "source": [
    "wv.most_similar(\"tea\")"
   ]
  },
  {
   "cell_type": "code",
   "execution_count": 6,
   "id": "546ad9d3",
   "metadata": {},
   "outputs": [
    {
     "data": {
      "text/plain": [
       "[('coffee', 0.8929039239883423),\n",
       " ('milk', 0.8667818903923035),\n",
       " ('wine', 0.8507667183876038),\n",
       " ('cream', 0.8502466678619385),\n",
       " ('ice', 0.8362607955932617),\n",
       " ('juice', 0.8177549242973328),\n",
       " ('beer', 0.8157103657722473),\n",
       " ('sugar', 0.8099127411842346),\n",
       " ('cake', 0.8080540895462036),\n",
       " ('drink', 0.8000376224517822)]"
      ]
     },
     "execution_count": 6,
     "metadata": {},
     "output_type": "execute_result"
    }
   ],
   "source": [
    "glove.most_similar(\"tea\")"
   ]
  },
  {
   "cell_type": "code",
   "execution_count": 7,
   "id": "639b227a",
   "metadata": {},
   "outputs": [
    {
     "data": {
      "text/plain": [
       "0.43647080659866333"
      ]
     },
     "execution_count": 7,
     "metadata": {},
     "output_type": "execute_result"
    }
   ],
   "source": [
    "wv.distance(\"tea\",\"coffee\")"
   ]
  },
  {
   "cell_type": "code",
   "execution_count": null,
   "id": "29cd150a",
   "metadata": {},
   "outputs": [],
   "source": []
  },
  {
   "cell_type": "code",
   "execution_count": null,
   "id": "1d0e65dd",
   "metadata": {},
   "outputs": [],
   "source": []
  }
 ],
 "metadata": {
  "kernelspec": {
   "display_name": "Python 3 (ipykernel)",
   "language": "python",
   "name": "python3"
  },
  "language_info": {
   "codemirror_mode": {
    "name": "ipython",
    "version": 3
   },
   "file_extension": ".py",
   "mimetype": "text/x-python",
   "name": "python",
   "nbconvert_exporter": "python",
   "pygments_lexer": "ipython3",
   "version": "3.11.1"
  }
 },
 "nbformat": 4,
 "nbformat_minor": 5
}
