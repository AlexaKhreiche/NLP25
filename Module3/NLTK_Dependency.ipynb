{
 "cells": [
  {
   "cell_type": "code",
   "execution_count": 2,
   "id": "bbc0052f",
   "metadata": {},
   "outputs": [
    {
     "name": "stdout",
     "output_type": "stream",
     "text": [
      "Dependency grammar with 7 productions\n",
      "  'shot' -> 'I'\n",
      "  'shot' -> 'elephant'\n",
      "  'shot' -> 'in'\n",
      "  'elephant' -> 'an'\n",
      "  'elephant' -> 'in'\n",
      "  'in' -> 'pajamas'\n",
      "  'pajamas' -> 'my'\n"
     ]
    }
   ],
   "source": [
    "import nltk\n",
    ">>> groucho_dep_grammar = nltk.DependencyGrammar.fromstring(\"\"\"\n",
    "... 'shot' -> 'I' | 'elephant' | 'in'\n",
    "... 'elephant' -> 'an' | 'in'\n",
    "... 'in' -> 'pajamas'\n",
    "... 'pajamas' -> 'my'\n",
    "... \"\"\")\n",
    ">>> print(groucho_dep_grammar)"
   ]
  },
  {
   "cell_type": "code",
   "execution_count": 9,
   "id": "9e53a38d",
   "metadata": {},
   "outputs": [
    {
     "name": "stdout",
     "output_type": "stream",
     "text": [
      "    shot                 \n",
      "  ___|______              \n",
      " |       elephant        \n",
      " |    ______|________     \n",
      " |   |               in  \n",
      " |   |               |    \n",
      " |   |            pajamas\n",
      " |   |               |    \n",
      " I   an              my  \n",
      "\n",
      "      shot          \n",
      "  _____|________     \n",
      " |     |        in  \n",
      " |     |        |    \n",
      " |  elephant pajamas\n",
      " |     |        |    \n",
      " I     an       my  \n",
      "\n"
     ]
    }
   ],
   "source": [
    "from nltk.tree import Tree\n",
    ">>> pdp = nltk.ProjectiveDependencyParser(groucho_dep_grammar)\n",
    ">>> sent = 'I shot an elephant in my pajamas'.split()\n",
    ">>> trees = pdp.parse(sent)\n",
    ">>> for tree in trees:\n",
    "...   tree.pretty_print()"
   ]
  },
  {
   "cell_type": "code",
   "execution_count": null,
   "id": "a3d48ce1",
   "metadata": {},
   "outputs": [],
   "source": []
  }
 ],
 "metadata": {
  "kernelspec": {
   "display_name": "Python 3 (ipykernel)",
   "language": "python",
   "name": "python3"
  },
  "language_info": {
   "codemirror_mode": {
    "name": "ipython",
    "version": 3
   },
   "file_extension": ".py",
   "mimetype": "text/x-python",
   "name": "python",
   "nbconvert_exporter": "python",
   "pygments_lexer": "ipython3",
   "version": "3.11.1"
  }
 },
 "nbformat": 4,
 "nbformat_minor": 5
}
