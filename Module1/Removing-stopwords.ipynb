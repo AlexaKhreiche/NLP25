{
 "cells": [
  {
   "cell_type": "code",
   "execution_count": 5,
   "id": "32b1c234",
   "metadata": {},
   "outputs": [
    {
     "name": "stdout",
     "output_type": "stream",
     "text": [
      "Text without English stop words: ['Hello', 'you?']\n",
      "Tokenized sentence: ['Hello', 'How', 'are', 'you']\n"
     ]
    },
    {
     "name": "stderr",
     "output_type": "stream",
     "text": [
      "[nltk_data] Downloading package punkt to\n",
      "[nltk_data]     C:\\Users\\suzan.awinat/nltk_data...\n",
      "[nltk_data]   Package punkt is already up-to-date!\n"
     ]
    }
   ],
   "source": [
    "import nltk\n",
    "nltk.download('punkt')\n",
    "from nltk.tokenize import RegexpTokenizer\n",
    "from nltk.corpus import stopwords\n",
    "\n",
    "text =\"Hello How are you?\"\n",
    "\n",
    "stopwords_text = [word for word in text.split() if word.lower() not in stopwords.words('english')]\n",
    "\n",
    "# Tokenizing the sentence\n",
    "tokenizer = RegexpTokenizer(r'\\w+')\n",
    "tokenized_sent = tokenizer.tokenize(text)\n",
    "\n",
    "# Printing the results\n",
    "print(\"Text without English stop words:\", stopwords_text)\n",
    "print(\"Tokenized sentence:\", tokenized_sent)"
   ]
  },
  {
   "cell_type": "code",
   "execution_count": null,
   "id": "8326371f",
   "metadata": {},
   "outputs": [],
   "source": []
  }
 ],
 "metadata": {
  "kernelspec": {
   "display_name": "Python 3 (ipykernel)",
   "language": "python",
   "name": "python3"
  },
  "language_info": {
   "codemirror_mode": {
    "name": "ipython",
    "version": 3
   },
   "file_extension": ".py",
   "mimetype": "text/x-python",
   "name": "python",
   "nbconvert_exporter": "python",
   "pygments_lexer": "ipython3",
   "version": "3.11.1"
  }
 },
 "nbformat": 4,
 "nbformat_minor": 5
}
