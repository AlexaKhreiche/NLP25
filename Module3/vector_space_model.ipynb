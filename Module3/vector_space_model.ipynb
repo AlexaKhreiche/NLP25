{
 "cells": [
  {
   "cell_type": "code",
   "execution_count": 2,
   "id": "7af90419",
   "metadata": {},
   "outputs": [
    {
     "name": "stdout",
     "output_type": "stream",
     "text": [
      "Collecting pandas-datareader\n",
      "  Downloading pandas_datareader-0.10.0-py3-none-any.whl.metadata (2.9 kB)\n",
      "Requirement already satisfied: lxml in c:\\python311\\lib\\site-packages (from pandas-datareader) (4.9.2)\n",
      "Requirement already satisfied: pandas>=0.23 in c:\\python311\\lib\\site-packages (from pandas-datareader) (1.5.3)\n",
      "Requirement already satisfied: requests>=2.19.0 in c:\\python311\\lib\\site-packages (from pandas-datareader) (2.28.2)\n",
      "Requirement already satisfied: python-dateutil>=2.8.1 in c:\\python311\\lib\\site-packages (from pandas>=0.23->pandas-datareader) (2.8.2)\n",
      "Requirement already satisfied: pytz>=2020.1 in c:\\python311\\lib\\site-packages (from pandas>=0.23->pandas-datareader) (2022.7.1)\n",
      "Requirement already satisfied: numpy>=1.21.0 in c:\\python311\\lib\\site-packages (from pandas>=0.23->pandas-datareader) (1.24.2)\n",
      "Requirement already satisfied: charset-normalizer<4,>=2 in c:\\python311\\lib\\site-packages (from requests>=2.19.0->pandas-datareader) (3.0.1)\n",
      "Requirement already satisfied: idna<4,>=2.5 in c:\\python311\\lib\\site-packages (from requests>=2.19.0->pandas-datareader) (3.4)\n",
      "Requirement already satisfied: urllib3<1.27,>=1.21.1 in c:\\python311\\lib\\site-packages (from requests>=2.19.0->pandas-datareader) (1.26.14)\n",
      "Requirement already satisfied: certifi>=2017.4.17 in c:\\python311\\lib\\site-packages (from requests>=2.19.0->pandas-datareader) (2022.12.7)\n",
      "Requirement already satisfied: six>=1.5 in c:\\python311\\lib\\site-packages (from python-dateutil>=2.8.1->pandas>=0.23->pandas-datareader) (1.16.0)\n",
      "Downloading pandas_datareader-0.10.0-py3-none-any.whl (109 kB)\n",
      "Installing collected packages: pandas-datareader\n",
      "Successfully installed pandas-datareader-0.10.0\n"
     ]
    }
   ],
   "source": [
    "!pip install pandas-datareader"
   ]
  },
  {
   "cell_type": "code",
   "execution_count": 3,
   "id": "2d45a90c",
   "metadata": {},
   "outputs": [
    {
     "name": "stdout",
     "output_type": "stream",
     "text": [
      "Closest by Euclidean distance:\n",
      "                 euclid           cos\n",
      "Australia  0.000000e+00  2.220446e-16\n",
      "Mexico     1.413113e+11  6.959944e-03\n",
      "Spain      3.452526e+11  3.009764e-03\n",
      "Turkiye    3.825043e+11  3.576441e-03\n",
      "Indonesia  4.107555e+11  7.403175e-03\n",
      "\n",
      "Closest by Cosine distance:\n",
      "                    euclid           cos\n",
      "Australia     0.000000e+00  2.220446e-16\n",
      "Colombia      9.006747e+11  1.691545e-03\n",
      "South Africa  7.538171e+11  2.300379e-03\n",
      "Cuba          1.133493e+12  2.400544e-03\n",
      "Italy         1.095467e+12  2.592310e-03\n",
      "\n",
      "Detail metrics:\n",
      "       country  year  NE.EXP.GNFS.CD  NE.IMP.GNFS.CD  NV.AGR.TOTL.CD  \\\n",
      "59   Australia  2010    2.274270e+11    2.381005e+11    2.532545e+10   \n",
      "91    Colombia  2010    4.681628e+10    5.135131e+10    1.812061e+10   \n",
      "176     Mexico  2010    3.207660e+11    3.344563e+11    3.417981e+10   \n",
      "\n",
      "     NY.GDP.MKTP.CD  NE.RSB.GNFS.CD  \n",
      "59     1.148838e+12   -1.067345e+10  \n",
      "91     2.864985e+11   -4.535024e+09  \n",
      "176    1.105424e+12   -1.369028e+10  \n"
     ]
    }
   ],
   "source": [
    "from pandas_datareader import wb\n",
    "import numpy as np\n",
    "import pandas as pd\n",
    "pd.options.display.width = 0\n",
    "\n",
    "# Download data from World Bank\n",
    "names = [\n",
    "    \"NE.EXP.GNFS.CD\", # Exports of goods and services (current US$)\n",
    "    \"NE.IMP.GNFS.CD\", # Imports of goods and services (current US$)\n",
    "    \"NV.AGR.TOTL.CD\", # Agriculture, forestry, and fishing, value added (current US$)\n",
    "    \"NY.GDP.MKTP.CD\", # GDP (current US$)\n",
    "    \"NE.RSB.GNFS.CD\", # External balance on goods and services (current US$)\n",
    "]\n",
    "df = wb.download(country=\"all\", indicator=names, start=2010, end=2010).reset_index()\n",
    "\n",
    "# We remove aggregates and keep only countries with no missing data\n",
    "countries = wb.get_countries()\n",
    "non_aggregates = countries[countries[\"region\"] != \"Aggregates\"].name\n",
    "df_nonagg = df[df[\"country\"].isin(non_aggregates)].dropna()\n",
    "\n",
    "# Extract vector for each country\n",
    "vectors = {}\n",
    "for rowid, row in df_nonagg.iterrows():\n",
    "    vectors[row[\"country\"]] = row[names].values\n",
    "\n",
    "# Compute the Euclidean and cosine distances\n",
    "euclid = {}\n",
    "cosine = {}\n",
    "\n",
    "target = \"Australia\"\n",
    "for country in vectors:\n",
    "    vecA = vectors[target]\n",
    "    vecB = vectors[country]\n",
    "    dist = np.linalg.norm(vecA - vecB)\n",
    "    cos = (vecA @ vecB) / (np.linalg.norm(vecA) * np.linalg.norm(vecB))\n",
    "    euclid[country] = dist    # Euclidean distance\n",
    "    cosine[country] = 1-cos   # cosine distance\n",
    "\n",
    "# Print the results\n",
    "df_distance = pd.DataFrame({\"euclid\": euclid, \"cos\": cosine})\n",
    "print(\"Closest by Euclidean distance:\")\n",
    "print(df_distance.sort_values(by=\"euclid\").head())\n",
    "print()\n",
    "print(\"Closest by Cosine distance:\")\n",
    "print(df_distance.sort_values(by=\"cos\").head())\n",
    "\n",
    "# Print the detail metrics\n",
    "print()\n",
    "print(\"Detail metrics:\")\n",
    "print(df_nonagg[df_nonagg.country.isin([\"Mexico\", \"Colombia\", \"Australia\"])])"
   ]
  },
  {
   "cell_type": "code",
   "execution_count": null,
   "id": "72d7d130",
   "metadata": {},
   "outputs": [],
   "source": []
  }
 ],
 "metadata": {
  "kernelspec": {
   "display_name": "Python 3 (ipykernel)",
   "language": "python",
   "name": "python3"
  },
  "language_info": {
   "codemirror_mode": {
    "name": "ipython",
    "version": 3
   },
   "file_extension": ".py",
   "mimetype": "text/x-python",
   "name": "python",
   "nbconvert_exporter": "python",
   "pygments_lexer": "ipython3",
   "version": "3.11.1"
  }
 },
 "nbformat": 4,
 "nbformat_minor": 5
}
