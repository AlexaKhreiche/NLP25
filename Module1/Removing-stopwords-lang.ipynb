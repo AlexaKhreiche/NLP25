{
 "cells": [
  {
   "cell_type": "code",
   "execution_count": 4,
   "id": "32b1c234",
   "metadata": {},
   "outputs": [
    {
     "name": "stdout",
     "output_type": "stream",
     "text": [
      "*** Introductory Examples for the NLTK Book ***\n",
      "Loading text1, ..., text9 and sent1, ..., sent9\n",
      "Type the name of the text or sentence to view it.\n",
      "Type: 'texts()' or 'sents()' to list the materials.\n",
      "text1: Moby Dick by Herman Melville 1851\n",
      "text2: Sense and Sensibility by Jane Austen 1811\n",
      "text3: The Book of Genesis\n",
      "text4: Inaugural Address Corpus\n",
      "text5: Chat Corpus\n",
      "text6: Monty Python and the Holy Grail\n",
      "text7: Wall Street Journal\n",
      "text8: Personals Corpus\n",
      "text9: The Man Who Was Thursday by G . K . Chesterton 1908\n",
      "Text without Spanish stop words: ['Hello', 'How', 'are', 'you?', 'jabón', 'jabon', '،', 'كيف', 'حالك؟', 'مرحبا', 'أنا', 'اسمي', 'سوزان']\n",
      "Text without English stop words: ['Hello', 'you?', 'hay', 'jabón', 'jabon', '،', 'كيف', 'حالك؟', 'مرحبا', 'أنا', 'اسمي', 'سوزان']\n",
      "Text without Arabic stop words: ['Hello', 'How', 'are', 'you?', 'no', 'hay', 'jabón', 'jabon', '،', 'حالك؟', 'مرحبا', 'اسمي', 'سوزان']\n",
      "Tokenized sentence: ['Hello', 'How', 'are', 'you', 'no', 'hay', 'jabón', 'jabon', 'كيف', 'حالك', 'مرحبا', 'أنا', 'اسمي', 'سوزان']\n"
     ]
    },
    {
     "name": "stderr",
     "output_type": "stream",
     "text": [
      "[nltk_data] Downloading package punkt to\n",
      "[nltk_data]     C:\\Users\\suzan.awinat/nltk_data...\n",
      "[nltk_data]   Package punkt is already up-to-date!\n"
     ]
    }
   ],
   "source": [
    "import nltk\n",
    "from nltk.book import *\n",
    "nltk.download('punkt')\n",
    "from nltk.tokenize import RegexpTokenizer\n",
    "from nltk.corpus import stopwords\n",
    "\n",
    "text =\"Hello How are you? no hay jabón jabon ، كيف حالك؟ مرحبا أنا اسمي سوزان\"\n",
    "\n",
    "ESstopwords_text = [word for word in text.split() if word.lower() not in stopwords.words('spanish')]\n",
    "ENstopwords_text = [word for word in text.split() if word.lower() not in stopwords.words('english')]\n",
    "ARstopwords_text = [word for word in text.split() if word.lower() not in stopwords.words('arabic')]\n",
    "\n",
    "\n",
    "# Tokenizing the sentence\n",
    "tokenizer = RegexpTokenizer(r'\\w+')\n",
    "tokenized_sent = tokenizer.tokenize(text)\n",
    "\n",
    "# Printing the results\n",
    "print(\"Text without Spanish stop words:\", ESstopwords_text) \n",
    "print(\"Text without English stop words:\", ENstopwords_text)\n",
    "print(\"Text without Arabic stop words:\", ARstopwords_text)\n",
    "print(\"Tokenized sentence:\", tokenized_sent)"
   ]
  },
  {
   "cell_type": "code",
   "execution_count": 5,
   "id": "bcaf9b67",
   "metadata": {},
   "outputs": [
    {
     "data": {
      "text/plain": [
       "FreqDist({' ': 14, 'o': 5, 'ا': 5, 'a': 4, 'n': 3, 'H': 2, 'e': 2, 'l': 2, 'y': 2, 'j': 2, ...})"
      ]
     },
     "execution_count": 5,
     "metadata": {},
     "output_type": "execute_result"
    }
   ],
   "source": [
    "FreqDist(text)"
   ]
  },
  {
   "cell_type": "code",
   "execution_count": null,
   "id": "8326371f",
   "metadata": {},
   "outputs": [],
   "source": [
    "from nltk.stem import PorterStemmer\n",
    "from nltk.to"
   ]
  }
 ],
 "metadata": {
  "kernelspec": {
   "display_name": "Python 3 (ipykernel)",
   "language": "python",
   "name": "python3"
  },
  "language_info": {
   "codemirror_mode": {
    "name": "ipython",
    "version": 3
   },
   "file_extension": ".py",
   "mimetype": "text/x-python",
   "name": "python",
   "nbconvert_exporter": "python",
   "pygments_lexer": "ipython3",
   "version": "3.11.1"
  }
 },
 "nbformat": 4,
 "nbformat_minor": 5
}
