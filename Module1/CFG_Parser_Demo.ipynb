{
 "cells": [
  {
   "cell_type": "code",
   "execution_count": 1,
   "id": "342da044",
   "metadata": {},
   "outputs": [],
   "source": [
    "import nltk"
   ]
  },
  {
   "cell_type": "code",
   "execution_count": 2,
   "id": "3dbe0ca8",
   "metadata": {},
   "outputs": [
    {
     "name": "stdout",
     "output_type": "stream",
     "text": [
      "[('under',)]\n",
      "[('with',)]\n",
      "[('in',)]\n",
      "[('under',), ('with',)]\n",
      "[('ate',)]\n",
      "[('saw',)]\n",
      "[('dog',)]\n",
      "[('telescope',)]\n",
      "[('park',)]\n",
      "[('dog',), ('telescope',)]\n",
      "[('man',)]\n",
      "[('park',), ('dog',), ('telescope',)]\n",
      "[('the',)]\n",
      "[('a',)]\n",
      "[(V, NP)]\n",
      "[(V,)]\n",
      "[(V, NP, PP)]\n",
      "[(V, NP), (V,)]\n",
      "[(Det, N, PP)]\n",
      "[(Det, N)]\n",
      "S [(NP, VP)]\n",
      "NP [(Det, N, PP), (Det, N)]\n",
      "VP [(V, NP, PP), (V, NP), (V,)]\n",
      "PP [(P, NP)]\n",
      "NP [('I',)]\n",
      "Det [('the',), ('a',)]\n",
      "N [('man',), ('park',), ('dog',), ('telescope',)]\n",
      "V [('ate',), ('saw',)]\n",
      "P [('in',), ('under',), ('with',)]\n"
     ]
    }
   ],
   "source": [
    "nltk.app.rdparser()"
   ]
  },
  {
   "cell_type": "code",
   "execution_count": null,
   "id": "76cc7a13",
   "metadata": {},
   "outputs": [],
   "source": []
  }
 ],
 "metadata": {
  "kernelspec": {
   "display_name": "Python 3 (ipykernel)",
   "language": "python",
   "name": "python3"
  },
  "language_info": {
   "codemirror_mode": {
    "name": "ipython",
    "version": 3
   },
   "file_extension": ".py",
   "mimetype": "text/x-python",
   "name": "python",
   "nbconvert_exporter": "python",
   "pygments_lexer": "ipython3",
   "version": "3.11.1"
  }
 },
 "nbformat": 4,
 "nbformat_minor": 5
}
