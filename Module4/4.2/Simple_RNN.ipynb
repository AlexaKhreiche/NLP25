{
 "cells": [
  {
   "cell_type": "code",
   "execution_count": 1,
   "id": "4371ce8f",
   "metadata": {},
   "outputs": [
    {
     "name": "stdout",
     "output_type": "stream",
     "text": [
      "Hidden state h_t: [0.5441271]\n"
     ]
    }
   ],
   "source": [
    "import numpy as np\n",
    "\n",
    "# Tanh activation function\n",
    "def tanh(x):\n",
    "    return np.tanh(x)\n",
    "\n",
    "# Input data\n",
    "x_t = np.array([0.5])  # Current input\n",
    "h_prev = np.array([0.1])  # Previous hidden state\n",
    "\n",
    "# RNN Weights and Bias\n",
    "W_x = np.array([0.7])  # Input to hidden weight\n",
    "W_h = np.array([0.6])  # Hidden to hidden weight\n",
    "b = np.array([0.2])    # Bias term\n",
    "\n",
    "# Step 1: Compute hidden state\n",
    "h_t = tanh(np.dot(W_x, x_t) + np.dot(W_h, h_prev) + b)\n",
    "print(f\"Hidden state h_t: {h_t}\")"
   ]
  },
  {
   "cell_type": "code",
   "execution_count": null,
   "id": "84446e7a",
   "metadata": {},
   "outputs": [],
   "source": []
  }
 ],
 "metadata": {
  "kernelspec": {
   "display_name": "Python 3 (ipykernel)",
   "language": "python",
   "name": "python3"
  },
  "language_info": {
   "codemirror_mode": {
    "name": "ipython",
    "version": 3
   },
   "file_extension": ".py",
   "mimetype": "text/x-python",
   "name": "python",
   "nbconvert_exporter": "python",
   "pygments_lexer": "ipython3",
   "version": "3.11.1"
  }
 },
 "nbformat": 4,
 "nbformat_minor": 5
}
