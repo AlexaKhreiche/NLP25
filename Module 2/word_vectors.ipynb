{
 "cells": [
  {
   "cell_type": "code",
   "execution_count": 1,
   "id": "66c81336",
   "metadata": {},
   "outputs": [],
   "source": [
    "pip install spacy"
   ]
  },
  {
   "cell_type": "code",
   "execution_count": 2,
   "id": "bc1fd815",
   "metadata": {},
   "outputs": [],
   "source": [
    "import spacy"
   ]
  },
  {
   "cell_type": "code",
   "execution_count": 4,
   "id": "8effc501",
   "metadata": {},
   "outputs": [],
   "source": [
    "#nlp = spacy.load(\"en_core_web_lg\")\n",
    "nlp = spacy.load(\"en_core_web_sm\")"
   ]
  },
  {
   "cell_type": "code",
   "execution_count": 5,
   "id": "366f11bb",
   "metadata": {},
   "outputs": [],
   "source": [
    "import en_core_web_sm"
   ]
  },
  {
   "cell_type": "code",
   "execution_count": 6,
   "id": "33ed1706",
   "metadata": {},
   "outputs": [],
   "source": [
    "nlp = en_core_web_sm.load()"
   ]
  },
  {
   "cell_type": "code",
   "execution_count": 7,
   "id": "40603a9a",
   "metadata": {},
   "outputs": [],
   "source": [
    "doc = nlp(\"This is a sentence.\")\n",
    "print([(w.text, w.pos_) for w in doc])"
   ]
  },
  {
   "cell_type": "code",
   "execution_count": 8,
   "id": "149682d2",
   "metadata": {},
   "outputs": [],
   "source": [
    "nlp= spacy.load(\"en_core_web_sm\")"
   ]
  },
  {
   "cell_type": "code",
   "execution_count": 10,
   "id": "33ed14e8",
   "metadata": {},
   "outputs": [
    {
     "data": {
      "text/plain": [
       "array([-1.615     ,  0.73115796, -0.43866196,  0.017288  ,  1.7033421 ,\n",
       "       -2.4918282 ,  0.13813403,  3.185108  ,  1.431782  ,  0.16901802,\n",
       "        2.7527    ,  0.64076406, -2.342192  ,  0.41953403,  0.797184  ,\n",
       "       -1.1299    ,  1.4179399 ,  1.630098  ,  2.56572   , -1.1786883 ,\n",
       "       -1.8828003 ,  0.10497598,  1.5746659 , -2.4389    ,  1.6264408 ,\n",
       "       -0.195288  , -3.663484  , -2.367334  ,  1.120072  ,  1.517998  ,\n",
       "       -1.5409119 , -0.74236   , -1.70981   ,  0.21122456, -2.4972022 ,\n",
       "       -2.9451559 ,  0.741366  ,  0.69130594,  2.56254   , -2.1797023 ,\n",
       "        1.455228  ,  0.19872916,  0.96076   , -0.1895    , -0.50636196,\n",
       "       -0.3994352 ,  1.72168   , -0.43335405, -2.79734   ,  0.04104001,\n",
       "        0.870872  ,  3.07908   , -0.85011005,  0.15068403, -0.992664  ,\n",
       "       -0.5621961 , -0.08378398,  1.3055401 ,  2.0414014 ,  0.24415842,\n",
       "        0.33115202, -2.2055602 ,  0.27012798,  1.9971001 , -0.91020405,\n",
       "       -1.43928   , -3.3562179 , -2.326374  ,  1.410608  ,  0.12847403,\n",
       "        0.52536   ,  0.494448  ,  0.47294015, -0.5851339 , -0.22306204,\n",
       "       -0.48378196,  0.15025802,  0.48946   ,  0.12913978, -0.73069644,\n",
       "       -2.379094  , -2.0692801 , -1.0096788 ,  1.25272   ,  1.7908599 ,\n",
       "       -0.9036261 ,  2.79906   , -0.04914599, -2.5143478 ,  0.61309   ,\n",
       "       -0.6750078 , -0.32888407,  2.54184   , -0.17071861,  0.26411504,\n",
       "       -0.08619805,  2.3224058 ,  0.89006007,  2.165062  ,  0.25915796,\n",
       "        0.8285859 , -1.261076  ,  2.086974  ,  2.1299443 , -0.21456781,\n",
       "        0.5569401 , -1.60378   ,  1.9442778 , -0.913892  , -0.95242196,\n",
       "       -0.7128006 ,  0.98087406, -0.5353999 ,  1.931312  ,  0.894812  ,\n",
       "       -1.6521759 ,  0.886004  , -0.6169411 ,  1.6394199 , -0.11687199,\n",
       "       -0.30550203, -0.190044  , -0.70105994,  2.47268   , -1.375986  ,\n",
       "       -0.648144  ,  0.97559243, -0.231462  ,  4.2825003 ,  0.31813997,\n",
       "       -2.8985977 , -1.7611881 ,  1.7779    , -0.580056  ,  0.39031202,\n",
       "        0.85677797, -0.60733604, -3.11234   ,  0.97764003, -0.15887599,\n",
       "       -3.6071002 ,  0.13601403, -1.73926   , -0.18580799, -0.70062   ,\n",
       "        0.685252  , -0.43827993,  0.99436396,  1.3498939 ,  0.65000397,\n",
       "        0.7475419 ,  2.8786798 ,  0.20917603, -0.77544403, -0.52630484,\n",
       "        1.10618   ,  2.88104   , -1.4148799 ,  1.196578  ,  1.7139801 ,\n",
       "        1.236796  , -1.0417379 ,  1.1953919 , -2.6903958 , -3.408744  ,\n",
       "       -0.42112   , -1.429724  ,  0.6638    , -0.313608  ,  0.878424  ,\n",
       "       -0.41962606,  3.11922   ,  1.7436501 ,  0.22487998, -1.51121   ,\n",
       "       -0.20153204,  0.22349992, -2.05798   , -1.58918   , -0.7827472 ,\n",
       "       -1.330986  ,  0.09964222,  0.06207442,  0.9869    , -0.30682   ,\n",
       "       -1.50693   , -1.2281196 , -2.191202  ,  0.47935557, -2.3384001 ,\n",
       "        1.20602   ,  1.31761   , -0.8693681 , -0.65864   ,  1.2964699 ,\n",
       "       -0.38857   , -1.44396   , -0.16076404, -1.309934  , -0.21346001,\n",
       "        0.34005594, -0.535046  , -1.1445577 , -0.7100479 ,  0.93315995,\n",
       "        1.0069644 , -3.7653117 ,  0.14853014,  0.191566  ,  0.23523481,\n",
       "        0.435994  ,  1.7084318 , -1.03388   , -0.2700088 ,  1.4422156 ,\n",
       "        0.40605992,  2.61922   ,  0.139244  , -2.405738  ,  0.10005765,\n",
       "       -1.648928  ,  0.67755586, -1.522344  ,  1.3883001 , -1.922932  ,\n",
       "        0.67168695,  0.47529   ,  1.632602  ,  3.0956483 ,  0.7767579 ,\n",
       "        0.802909  , -3.05359   ,  1.635946  ,  0.578938  , -2.0028203 ,\n",
       "        1.5184625 , -1.128546  ,  1.2410339 , -0.45437998,  3.326482  ,\n",
       "        1.8903358 , -2.4961722 ,  1.77654   , -0.15610322, -0.94260806,\n",
       "        1.4371201 , -0.50928175, -0.59553605, -1.221542  , -0.415412  ,\n",
       "       -0.624964  , -1.675564  , -2.5494435 , -1.323242  , -0.666676  ,\n",
       "       -1.729809  ,  1.1727359 ,  4.390082  , -0.28563803, -1.214412  ,\n",
       "        1.775902  , -0.414936  ,  1.1300812 ,  0.77161705, -1.810062  ,\n",
       "       -1.393386  , -2.9972858 , -0.30180797, -2.399366  ,  0.261624  ,\n",
       "        0.6725    , -0.27217802,  0.69558007, -1.088974  , -0.264166  ,\n",
       "       -2.4113898 ,  0.23572204, -0.84566003, -0.16156402,  1.9245478 ,\n",
       "       -0.08114004, -1.1815579 ,  0.18797809, -0.64504004,  1.6769199 ,\n",
       "       -1.097682  ,  0.07828407, -2.18926   ,  1.10807   ,  0.80761206,\n",
       "       -1.1212146 ,  0.84139407,  3.769678  ,  1.2326021 , -0.30580598,\n",
       "        3.210394  ,  0.63234997,  0.676008  , -2.833096  , -1.0153    ],\n",
       "      dtype=float32)"
      ]
     },
     "execution_count": 10,
     "metadata": {},
     "output_type": "execute_result"
    }
   ],
   "source": [
    "nlp(u'The quick brown fox jumped').vector"
   ]
  },
  {
   "cell_type": "code",
   "execution_count": 9,
   "id": "7bdd0963",
   "metadata": {},
   "outputs": [],
   "source": [
    "tokens=nlp(u'big small massive')"
   ]
  },
  {
   "cell_type": "code",
   "execution_count": 10,
   "id": "20da761c",
   "metadata": {},
   "outputs": [],
   "source": [
    "for token1 in tokens:\n",
    "    for token2 in tokens:\n",
    "        print(token1.text,token2.text,token1.similarity(token2))"
   ]
  },
  {
   "cell_type": "code",
   "execution_count": 11,
   "id": "58333d63",
   "metadata": {},
   "outputs": [],
   "source": [
    "len(nlp.vocab.vectors)"
   ]
  },
  {
   "cell_type": "code",
   "execution_count": 12,
   "id": "85c8304d",
   "metadata": {},
   "outputs": [],
   "source": [
    "nlp.vocab.vectors.shape"
   ]
  },
  {
   "cell_type": "code",
   "execution_count": 13,
   "id": "9bea5b1f",
   "metadata": {},
   "outputs": [],
   "source": [
    "tokens=nlp(u\"lion cat John\")"
   ]
  },
  {
   "cell_type": "code",
   "execution_count": 14,
   "id": "14c856cd",
   "metadata": {},
   "outputs": [],
   "source": [
    "for token in tokens:\n",
    "    print(token.text,token.has_vector,token.vector_norm,token.is_oov)"
   ]
  },
  {
   "cell_type": "code",
   "execution_count": 136,
   "id": "ebb2dc8c",
   "metadata": {},
   "outputs": [],
   "source": [
    "tokens=nlp(u\"dog cat Zane\")"
   ]
  },
  {
   "cell_type": "code",
   "execution_count": 15,
   "id": "5564da65",
   "metadata": {},
   "outputs": [],
   "source": [
    "for token in tokens:\n",
    "    print(token.text,token.has_vector,token.vector_norm,token.is_oov)"
   ]
  },
  {
   "cell_type": "code",
   "execution_count": 16,
   "id": "792cd8f3",
   "metadata": {},
   "outputs": [],
   "source": [
    "tokens=nlp(u\"dog cat John\")"
   ]
  },
  {
   "cell_type": "code",
   "execution_count": 17,
   "id": "6b463eb3",
   "metadata": {},
   "outputs": [],
   "source": [
    "for token in tokens:\n",
    "    print(token.text,token.has_vector,token.vector_norm,token.is_oov)"
   ]
  },
  {
   "cell_type": "code",
   "execution_count": 18,
   "id": "bd53af85",
   "metadata": {},
   "outputs": [],
   "source": [
    "from scipy import spatial"
   ]
  },
  {
   "cell_type": "code",
   "execution_count": 19,
   "id": "198f5013",
   "metadata": {},
   "outputs": [],
   "source": [
    "import nltk\n",
    "from nltk.corpus import stopwords\n",
    "\n",
    "stop_words = set(stopwords.words('english'))"
   ]
  },
  {
   "cell_type": "code",
   "execution_count": 35,
   "id": "84decb2c",
   "metadata": {},
   "outputs": [],
   "source": [
    "cosine_similarity= lambda vec1,vec2: 1-spatial.distance.cosine(vec1,vec2)"
   ]
  },
  {
   "cell_type": "code",
   "execution_count": 20,
   "id": "a549b2f3",
   "metadata": {},
   "outputs": [],
   "source": [
    "boy=nlp.vocab['boy'].vector\n",
    "brother=nlp.vocab['brother'].vector\n",
    "sister=nlp.vocab['sister'].vector"
   ]
  },
  {
   "cell_type": "code",
   "execution_count": 21,
   "id": "c8308a09",
   "metadata": {},
   "outputs": [],
   "source": [
    "new_vector=(brother-boy)+sister"
   ]
  },
  {
   "cell_type": "code",
   "execution_count": 22,
   "id": "640e9a7f",
   "metadata": {},
   "outputs": [],
   "source": [
    "computed_similarities=[]\n",
    "\n",
    "for word in nlp.vocab:\n",
    "    if word.has_vector and word.is_lower and word.is_alpha and not word.is_stop:\n",
    "       # if word not in stop_words:\n",
    "        similarity=cosine_similarity(new_vector,word.vector)\n",
    "        if similarity>=0.1: \n",
    "            computed_similarities.append((similarity,word.text))"
   ]
  },
  {
   "cell_type": "code",
   "execution_count": 23,
   "id": "99c5debb",
   "metadata": {},
   "outputs": [],
   "source": [
    "computed_similarities=sorted(computed_similarities,reverse=True)"
   ]
  },
  {
   "cell_type": "code",
   "execution_count": 24,
   "id": "8744b3ba",
   "metadata": {},
   "outputs": [],
   "source": [
    "print(computed_similarities)"
   ]
  },
  {
   "cell_type": "code",
   "execution_count": 25,
   "id": "9764dc61",
   "metadata": {},
   "outputs": [],
   "source": [
    "conference_help_text = (\n",
    "    \"Gus is helping organize a developer\"\n",
    "    \" conference on Applications of Natural Language\"\n",
    "    \" Processing. He keeps organizing local Python meetups\"\n",
    "    \" and several internal talks at his workplace.\"\n",
    " )\n",
    "conference_help_doc = nlp(conference_help_text)\n",
    "for token in conference_help_doc:\n",
    "    if str(token) != str(token.lemma_):\n",
    "        print(f\"{str(token):>20} : {str(token.lemma_)}\")"
   ]
  },
  {
   "cell_type": "code",
   "execution_count": 26,
   "id": "d8b183f9",
   "metadata": {},
   "outputs": [],
   "source": [
    "about_interest_text = (\n",
    "    \"The brown fox jumped.\"\n",
    ")\n",
    "about_interest_doc = nlp(about_interest_text)\n",
    "displacy.render(about_interest_doc, style=\"dep\")"
   ]
  },
  {
   "cell_type": "code",
   "execution_count": 27,
   "id": "344e22e8",
   "metadata": {},
   "outputs": [],
   "source": [
    "from spacy import displacy"
   ]
  },
  {
   "cell_type": "code",
   "execution_count": null,
   "id": "d261ddbb",
   "metadata": {},
   "outputs": [],
   "source": []
  }
 ],
 "metadata": {
  "kernelspec": {
   "display_name": "Python 3 (ipykernel)",
   "language": "python",
   "name": "python3"
  },
  "language_info": {
   "codemirror_mode": {
    "name": "ipython",
    "version": 3
   },
   "file_extension": ".py",
   "mimetype": "text/x-python",
   "name": "python",
   "nbconvert_exporter": "python",
   "pygments_lexer": "ipython3",
   "version": "3.11.1"
  }
 },
 "nbformat": 4,
 "nbformat_minor": 5
}
