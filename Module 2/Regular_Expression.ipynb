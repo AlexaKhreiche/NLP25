{
 "cells": [
  {
   "cell_type": "code",
   "execution_count": 1,
   "id": "0e56d662",
   "metadata": {},
   "outputs": [],
   "source": [
    "import re"
   ]
  },
  {
   "cell_type": "code",
   "execution_count": 2,
   "id": "921e531c",
   "metadata": {},
   "outputs": [],
   "source": [
    "sent=\"This book on tennis cost $3.99 at Walmart\""
   ]
  },
  {
   "cell_type": "code",
   "execution_count": 3,
   "id": "7c350495",
   "metadata": {},
   "outputs": [],
   "source": [
    "p1=re.compile(\"ten\")"
   ]
  },
  {
   "cell_type": "code",
   "execution_count": 4,
   "id": "eef08319",
   "metadata": {},
   "outputs": [],
   "source": [
    "m1=p1.match(sent)"
   ]
  },
  {
   "cell_type": "code",
   "execution_count": 5,
   "id": "bfdd809e",
   "metadata": {},
   "outputs": [
    {
     "name": "stdout",
     "output_type": "stream",
     "text": [
      "None\n"
     ]
    }
   ],
   "source": [
    "print(m1)"
   ]
  },
  {
   "cell_type": "code",
   "execution_count": 7,
   "id": "7562c836",
   "metadata": {},
   "outputs": [],
   "source": [
    "p2=re.compile(\".*ten.*\")"
   ]
  },
  {
   "cell_type": "code",
   "execution_count": 8,
   "id": "6c4287b1",
   "metadata": {},
   "outputs": [],
   "source": [
    "m2=p2.match(sent)"
   ]
  },
  {
   "cell_type": "code",
   "execution_count": 9,
   "id": "1d947832",
   "metadata": {},
   "outputs": [
    {
     "name": "stdout",
     "output_type": "stream",
     "text": [
      "<re.Match object; span=(0, 41), match='This book on tennis cost $3.99 at Walmart'>\n"
     ]
    }
   ],
   "source": [
    "print(m2)"
   ]
  },
  {
   "cell_type": "code",
   "execution_count": 10,
   "id": "2275c87e",
   "metadata": {},
   "outputs": [],
   "source": [
    "m3=re.search(p1,sent)"
   ]
  },
  {
   "cell_type": "code",
   "execution_count": 11,
   "id": "b50014b8",
   "metadata": {},
   "outputs": [
    {
     "name": "stdout",
     "output_type": "stream",
     "text": [
      "<re.Match object; span=(13, 16), match='ten'>\n"
     ]
    }
   ],
   "source": [
    "print(m3)"
   ]
  },
  {
   "cell_type": "code",
   "execution_count": 12,
   "id": "75f53d81",
   "metadata": {},
   "outputs": [],
   "source": [
    "m4=re.search(p2,sent)"
   ]
  },
  {
   "cell_type": "code",
   "execution_count": 13,
   "id": "e2214a10",
   "metadata": {},
   "outputs": [
    {
     "name": "stdout",
     "output_type": "stream",
     "text": [
      "<re.Match object; span=(0, 41), match='This book on tennis cost $3.99 at Walmart'>\n"
     ]
    }
   ],
   "source": [
    "print(m4)"
   ]
  },
  {
   "cell_type": "code",
   "execution_count": 14,
   "id": "af4739c1",
   "metadata": {},
   "outputs": [],
   "source": [
    "pp1=re.compile(\"is\")"
   ]
  },
  {
   "cell_type": "code",
   "execution_count": 15,
   "id": "780186c0",
   "metadata": {},
   "outputs": [],
   "source": [
    "m5=re.findall(pp1,sent)"
   ]
  },
  {
   "cell_type": "code",
   "execution_count": 16,
   "id": "32db2e62",
   "metadata": {},
   "outputs": [
    {
     "name": "stdout",
     "output_type": "stream",
     "text": [
      "['is', 'is']\n"
     ]
    }
   ],
   "source": [
    "print(m5)"
   ]
  },
  {
   "cell_type": "code",
   "execution_count": 27,
   "id": "a25a754d",
   "metadata": {},
   "outputs": [],
   "source": [
    "pp2=re.compile(\"\\\\d\")"
   ]
  },
  {
   "cell_type": "code",
   "execution_count": 28,
   "id": "aa3764ce",
   "metadata": {},
   "outputs": [],
   "source": [
    "m6=re.findall(pp2,sent)"
   ]
  },
  {
   "cell_type": "code",
   "execution_count": 29,
   "id": "a223b5fa",
   "metadata": {},
   "outputs": [
    {
     "name": "stdout",
     "output_type": "stream",
     "text": [
      "['3', '9', '9']\n"
     ]
    }
   ],
   "source": [
    "print(m6)"
   ]
  },
  {
   "cell_type": "code",
   "execution_count": 33,
   "id": "04da0e93",
   "metadata": {},
   "outputs": [],
   "source": [
    "pp3=re.compile(\"\\\\d+\")"
   ]
  },
  {
   "cell_type": "code",
   "execution_count": 34,
   "id": "0a9e4b19",
   "metadata": {},
   "outputs": [],
   "source": [
    "m7=re.findall(pp3,sent)"
   ]
  },
  {
   "cell_type": "code",
   "execution_count": 35,
   "id": "291511d2",
   "metadata": {},
   "outputs": [
    {
     "name": "stdout",
     "output_type": "stream",
     "text": [
      "['3', '99']\n"
     ]
    }
   ],
   "source": [
    "print(m7)"
   ]
  },
  {
   "cell_type": "code",
   "execution_count": 37,
   "id": "72e31045",
   "metadata": {},
   "outputs": [],
   "source": [
    "pp4=re.compile(\"\\\\$\\\\d+.\\\\d\\\\d\")"
   ]
  },
  {
   "cell_type": "code",
   "execution_count": 38,
   "id": "66a292df",
   "metadata": {},
   "outputs": [],
   "source": [
    "m8=re.findall(pp2,sent)"
   ]
  },
  {
   "cell_type": "code",
   "execution_count": 39,
   "id": "eb565f91",
   "metadata": {},
   "outputs": [
    {
     "name": "stdout",
     "output_type": "stream",
     "text": [
      "['$3.99']\n"
     ]
    }
   ],
   "source": [
    "print(m8)"
   ]
  },
  {
   "cell_type": "code",
   "execution_count": null,
   "id": "cfa72765",
   "metadata": {},
   "outputs": [],
   "source": []
  }
 ],
 "metadata": {
  "kernelspec": {
   "display_name": "Python 3 (ipykernel)",
   "language": "python",
   "name": "python3"
  },
  "language_info": {
   "codemirror_mode": {
    "name": "ipython",
    "version": 3
   },
   "file_extension": ".py",
   "mimetype": "text/x-python",
   "name": "python",
   "nbconvert_exporter": "python",
   "pygments_lexer": "ipython3",
   "version": "3.11.1"
  }
 },
 "nbformat": 4,
 "nbformat_minor": 5
}
