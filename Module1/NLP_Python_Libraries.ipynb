{
 "cells": [
  {
   "cell_type": "code",
   "execution_count": 6,
   "id": "8bfee6a7",
   "metadata": {},
   "outputs": [
    {
     "name": "stderr",
     "output_type": "stream",
     "text": [
      "[nltk_data] Downloading package punkt to\n",
      "[nltk_data]     C:\\Users\\suzan.awinat/nltk_data...\n",
      "[nltk_data]   Package punkt is already up-to-date!\n",
      "[nltk_data] Downloading package stopwords to\n",
      "[nltk_data]     C:\\Users\\suzan.awinat/nltk_data...\n",
      "[nltk_data]   Package stopwords is already up-to-date!\n"
     ]
    },
    {
     "name": "stdout",
     "output_type": "stream",
     "text": [
      "NLTK Tokens: ['natur', 'languag', 'process', '(', 'nlp', ')', 'fascin', 'field', 'artifici', 'intellig', '.', 'involv', 'interact', 'comput', 'human', 'use', 'natur', 'languag', '.'] \n",
      "\n",
      "spaCy Tokens: ['Natural', 'Language', 'Processing', '(', 'NLP', ')', 'fascinating', 'field', 'Artificial', 'Intelligence', '.', 'involve', 'interaction', 'computer', 'human', 'natural', 'language', '.'] \n",
      "\n",
      "Gensim Tokens: ['natural', 'language', 'processing', 'nlp', 'is', 'fascinating', 'field', 'of', 'artificial', 'intelligence', 'it', 'involves', 'the', 'interaction', 'between', 'computers', 'and', 'humans', 'using', 'natural', 'language'] \n",
      "\n",
      "Transformers Tokens: ['natural', 'language', 'processing', '(', 'nl', '##p', ')', 'is', 'a', 'fascinating', 'field', 'of', 'artificial', 'intelligence', '.', 'it', 'involves', 'the', 'interaction', 'between', 'computers', 'and', 'humans', 'using', 'natural', 'language', '.'] \n",
      "\n",
      "CountVectorizer Tokens: [[1 1 1 1 1 1 1 1 2 2 1 1 1]] \n",
      "\n",
      "TfidfVectorizer Tokens: [[0.22941573 0.22941573 0.22941573 0.22941573 0.22941573 0.22941573\n",
      "  0.22941573 0.22941573 0.45883147 0.45883147 0.22941573 0.22941573\n",
      "  0.22941573]] \n",
      "\n"
     ]
    }
   ],
   "source": [
    "# Sample paragraph\n",
    "paragraph = \"Natural Language Processing (NLP) is a fascinating field of Artificial Intelligence. It involves the interaction between computers and humans using natural language.\"\n",
    "\n",
    "# Importing necessary libraries\n",
    "import nltk\n",
    "import spacy\n",
    "from gensim.utils import simple_preprocess\n",
    "from transformers import AutoTokenizer, AutoModelForSequenceClassification\n",
    "from sklearn.feature_extraction.text import CountVectorizer, TfidfVectorizer\n",
    "\n",
    "# Download necessary NLTK data\n",
    "nltk.download('punkt')\n",
    "nltk.download('stopwords')\n",
    "\n",
    "# NLTK Preprocessing\n",
    "def preprocess_nltk(text):\n",
    "    # Tokenization\n",
    "    tokens = nltk.word_tokenize(text)\n",
    "    # Lowercasing\n",
    "    tokens = [token.lower() for token in tokens]\n",
    "    # Removing stopwords\n",
    "    stop_words = set(nltk.corpus.stopwords.words('english'))\n",
    "    tokens = [token for token in tokens if token not in stop_words]\n",
    "    # Stemming\n",
    "    stemmer = nltk.PorterStemmer()\n",
    "    tokens = [stemmer.stem(token) for token in tokens]\n",
    "    return tokens\n",
    "\n",
    "# spaCy Preprocessing\n",
    "def preprocess_spacy(text):\n",
    "    nlp = spacy.load('en_core_web_sm')\n",
    "    doc = nlp(text)\n",
    "    # Tokenization, lowercasing, and removing stopwords\n",
    "    tokens = [token.text.lower() for token in doc if not token.is_stop]\n",
    "    # Lemmatization\n",
    "    tokens = [token.lemma_ for token in doc if not token.is_stop]\n",
    "    return tokens\n",
    "\n",
    "# Gensim Preprocessing\n",
    "def preprocess_gensim(text):\n",
    "    # Simple preprocessing with Gensim\n",
    "    tokens = simple_preprocess(text)\n",
    "    return tokens\n",
    "\n",
    "# Hugging Face's Transformers Preprocessing\n",
    "def preprocess_transformers(text):\n",
    "    # Using a smaller pre-trained model for tokenization\n",
    "    tokenizer = AutoTokenizer.from_pretrained(\"distilbert-base-uncased\")\n",
    "    tokens = tokenizer.tokenize(text)\n",
    "    return tokens\n",
    "\n",
    "# scikit-learn Preprocessing\n",
    "def preprocess_sklearn(text):\n",
    "    # Using CountVectorizer and TfidfVectorizer for feature extraction\n",
    "    count_vectorizer = CountVectorizer(stop_words='english')\n",
    "    tfidf_vectorizer = TfidfVectorizer(stop_words='english')\n",
    "    count_tokens = count_vectorizer.fit_transform([text]).toarray()\n",
    "    tfidf_tokens = tfidf_vectorizer.fit_transform([text]).toarray()\n",
    "    return count_tokens, tfidf_tokens\n",
    "\n",
    "# Applying preprocessing\n",
    "nltk_tokens = preprocess_nltk(paragraph)\n",
    "spacy_tokens = preprocess_spacy(paragraph)\n",
    "gensim_tokens = preprocess_gensim(paragraph)\n",
    "transformers_tokens = preprocess_transformers(paragraph)\n",
    "count_tokens, tfidf_tokens = preprocess_sklearn(paragraph)\n",
    "\n",
    "# Displaying results\n",
    "print(\"NLTK Tokens:\", nltk_tokens,\"\\n\")\n",
    "print(\"spaCy Tokens:\", spacy_tokens,\"\\n\")\n",
    "print(\"Gensim Tokens:\", gensim_tokens,\"\\n\")\n",
    "print(\"Transformers Tokens:\", transformers_tokens,\"\\n\")\n",
    "print(\"CountVectorizer Tokens:\", count_tokens,\"\\n\")\n",
    "print(\"TfidfVectorizer Tokens:\", tfidf_tokens,\"\\n\")"
   ]
  },
  {
   "cell_type": "code",
   "execution_count": null,
   "id": "49ec1304",
   "metadata": {},
   "outputs": [],
   "source": []
  }
 ],
 "metadata": {
  "kernelspec": {
   "display_name": "Python 3 (ipykernel)",
   "language": "python",
   "name": "python3"
  },
  "language_info": {
   "codemirror_mode": {
    "name": "ipython",
    "version": 3
   },
   "file_extension": ".py",
   "mimetype": "text/x-python",
   "name": "python",
   "nbconvert_exporter": "python",
   "pygments_lexer": "ipython3",
   "version": "3.11.1"
  }
 },
 "nbformat": 4,
 "nbformat_minor": 5
}
