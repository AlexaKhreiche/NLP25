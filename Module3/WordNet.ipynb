{
 "cells": [
  {
   "cell_type": "code",
   "execution_count": 68,
   "id": "ed7eada8",
   "metadata": {},
   "outputs": [
    {
     "data": {
      "text/plain": [
       "['eng']"
      ]
     },
     "execution_count": 68,
     "metadata": {},
     "output_type": "execute_result"
    }
   ],
   "source": [
    ">>> from nltk.corpus import wordnet as wn\n",
    "sorted(wn.langs())\n",
    "\n"
   ]
  },
  {
   "cell_type": "code",
   "execution_count": 63,
   "id": "46007653",
   "metadata": {},
   "outputs": [
    {
     "data": {
      "text/plain": [
       "['fly', 'wing']"
      ]
     },
     "execution_count": 63,
     "metadata": {},
     "output_type": "execute_result"
    }
   ],
   "source": [
    ">>> wn.synset('fly.v.01').lemma_names()"
   ]
  },
  {
   "cell_type": "code",
   "execution_count": 61,
   "id": "85b848e3",
   "metadata": {},
   "outputs": [
    {
     "data": {
      "text/plain": [
       "'two-winged insects characterized by active flight'"
      ]
     },
     "execution_count": 61,
     "metadata": {},
     "output_type": "execute_result"
    }
   ],
   "source": [
    "wn.synset('fly.n.01').definition()"
   ]
  },
  {
   "cell_type": "code",
   "execution_count": 56,
   "id": "d5c2fda5",
   "metadata": {},
   "outputs": [
    {
     "data": {
      "text/plain": [
       "['he needs a car to get to work']"
      ]
     },
     "execution_count": 56,
     "metadata": {},
     "output_type": "execute_result"
    }
   ],
   "source": [
    "wn.synset('car.n.01').examples()"
   ]
  },
  {
   "cell_type": "code",
   "execution_count": 5,
   "id": "101b2708",
   "metadata": {},
   "outputs": [
    {
     "data": {
      "text/plain": [
       "[Lemma('car.n.01.car'),\n",
       " Lemma('car.n.01.auto'),\n",
       " Lemma('car.n.01.automobile'),\n",
       " Lemma('car.n.01.machine'),\n",
       " Lemma('car.n.01.motorcar')]"
      ]
     },
     "execution_count": 5,
     "metadata": {},
     "output_type": "execute_result"
    }
   ],
   "source": [
    "wn.synset('car.n.01').lemmas()"
   ]
  },
  {
   "cell_type": "code",
   "execution_count": 66,
   "id": "2f307846",
   "metadata": {},
   "outputs": [
    {
     "name": "stdout",
     "output_type": "stream",
     "text": [
      "['good']\n",
      "['good', 'goodness']\n",
      "['good', 'goodness']\n",
      "['commodity', 'trade_good', 'good']\n",
      "['good']\n",
      "['full', 'good']\n",
      "['good']\n",
      "['estimable', 'good', 'honorable', 'respectable']\n",
      "['beneficial', 'good']\n",
      "['good']\n",
      "['good', 'just', 'upright']\n",
      "['adept', 'expert', 'good', 'practiced', 'proficient', 'skillful', 'skilful']\n",
      "['good']\n",
      "['dear', 'good', 'near']\n",
      "['dependable', 'good', 'safe', 'secure']\n",
      "['good', 'right', 'ripe']\n",
      "['good', 'well']\n",
      "['effective', 'good', 'in_effect', 'in_force']\n",
      "['good']\n",
      "['good', 'serious']\n",
      "['good', 'sound']\n",
      "['good', 'salutary']\n",
      "['good', 'honest']\n",
      "['good', 'undecomposed', 'unspoiled', 'unspoilt']\n",
      "['good']\n",
      "['well', 'good']\n",
      "['thoroughly', 'soundly', 'good']\n"
     ]
    }
   ],
   "source": [
    "for synset in wn.synsets('fly'):\n",
    "    print(synset.lemma_names())\n"
   ]
  },
  {
   "cell_type": "code",
   "execution_count": 73,
   "id": "ffa45300",
   "metadata": {},
   "outputs": [],
   "source": [
    "synset = wordnet.synsets(\"flower\")\n",
    "for syns in synset:\n",
    "    for word in syns.lemmas():\n",
    "        if word.antonyms():\n",
    "            print(word.antonyms())"
   ]
  },
  {
   "cell_type": "code",
   "execution_count": 67,
   "id": "560c76ba",
   "metadata": {},
   "outputs": [
    {
     "data": {
      "text/plain": [
       "['eng']"
      ]
     },
     "execution_count": 67,
     "metadata": {},
     "output_type": "execute_result"
    }
   ],
   "source": [
    "sorted(wn.langs())"
   ]
  },
  {
   "cell_type": "code",
   "execution_count": 69,
   "id": "7115e2c1",
   "metadata": {
    "scrolled": true
   },
   "outputs": [
    {
     "name": "stdout",
     "output_type": "stream",
     "text": [
      "python.n.01\n",
      "python\n",
      "large Old World boas\n",
      "[]\n"
     ]
    }
   ],
   "source": [
    "from nltk.corpus import wordnet\n",
    "py_arr = wordnet.synsets(\"python\")\n",
    "print (py_arr[0].name())\n",
    "print (py_arr[0].lemmas()[0].name())\n",
    "print (py_arr[0].definition())\n",
    "print (py_arr[0].examples())"
   ]
  },
  {
   "cell_type": "code",
   "execution_count": 77,
   "id": "e26ea2c1",
   "metadata": {},
   "outputs": [
    {
     "data": {
      "text/plain": [
       "[Synset('canine.n.02'), Synset('domestic_animal.n.01')]"
      ]
     },
     "execution_count": 77,
     "metadata": {},
     "output_type": "execute_result"
    }
   ],
   "source": [
    ">>> dog = wn.synset('dog.n.01') \n",
    "\n",
    ">>> dog.hypernyms() \n"
   ]
  },
  {
   "cell_type": "code",
   "execution_count": 85,
   "id": "f3d99f7f",
   "metadata": {},
   "outputs": [
    {
     "name": "stdout",
     "output_type": "stream",
     "text": [
      "0.3333333333333333\n"
     ]
    }
   ],
   "source": [
    "w1 = wordnet.synset('ship.n.01')\n",
    "w2 = wordnet.synset('boat.n.01')\n",
    "print(w1.path_similarity(w2))"
   ]
  },
  {
   "cell_type": "code",
   "execution_count": 84,
   "id": "c527cb5c",
   "metadata": {},
   "outputs": [
    {
     "name": "stdout",
     "output_type": "stream",
     "text": [
      "0.32\n"
     ]
    }
   ],
   "source": [
    "w1 = wordnet.synset('ship.n.01')\n",
    "w2 = wordnet.synset('cat.n.01')\n",
    "print(w1.wup_similarity(w2))"
   ]
  },
  {
   "cell_type": "code",
   "execution_count": 78,
   "id": "90e8d3c3",
   "metadata": {},
   "outputs": [
    {
     "data": {
      "text/plain": [
       "[Synset('basenji.n.01'),\n",
       " Synset('corgi.n.01'),\n",
       " Synset('cur.n.01'),\n",
       " Synset('dalmatian.n.02'),\n",
       " Synset('great_pyrenees.n.01'),\n",
       " Synset('griffon.n.02'),\n",
       " Synset('hunting_dog.n.01'),\n",
       " Synset('lapdog.n.01'),\n",
       " Synset('leonberg.n.01'),\n",
       " Synset('mexican_hairless.n.01'),\n",
       " Synset('newfoundland.n.01'),\n",
       " Synset('pooch.n.01'),\n",
       " Synset('poodle.n.01'),\n",
       " Synset('pug.n.01'),\n",
       " Synset('puppy.n.01'),\n",
       " Synset('spitz.n.01'),\n",
       " Synset('toy_dog.n.01'),\n",
       " Synset('working_dog.n.01')]"
      ]
     },
     "execution_count": 78,
     "metadata": {},
     "output_type": "execute_result"
    }
   ],
   "source": [
    "\n",
    "\n",
    ">>> dog.hyponyms() \n",
    "\n"
   ]
  },
  {
   "cell_type": "code",
   "execution_count": 25,
   "id": "b1d41e64",
   "metadata": {},
   "outputs": [
    {
     "data": {
      "text/plain": [
       "0.2"
      ]
     },
     "execution_count": 25,
     "metadata": {},
     "output_type": "execute_result"
    }
   ],
   "source": [
    "w1 = wn.synset('dog.n.01')\n",
    "w2 = wn.synset('cat.n.01')\n",
    "w1.path_similarity(w2)"
   ]
  },
  {
   "cell_type": "code",
   "execution_count": 79,
   "id": "55bbda1a",
   "metadata": {},
   "outputs": [
    {
     "data": {
      "text/plain": [
       "[Synset('canis.n.01'), Synset('pack.n.06')]"
      ]
     },
     "execution_count": 79,
     "metadata": {},
     "output_type": "execute_result"
    }
   ],
   "source": [
    "\n",
    "\n",
    ">>> dog.member_holonyms() \n"
   ]
  },
  {
   "cell_type": "code",
   "execution_count": 26,
   "id": "8e752828",
   "metadata": {},
   "outputs": [
    {
     "name": "stdout",
     "output_type": "stream",
     "text": [
      "0.3333333333333333\n"
     ]
    }
   ],
   "source": [
    "w1 = wordnet.synset('ship.n.01')\n",
    "w2 = wordnet.synset('boat.n.01')\n",
    "print(w1.path_similarity(w2))"
   ]
  },
  {
   "cell_type": "code",
   "execution_count": 80,
   "id": "17c5438b",
   "metadata": {},
   "outputs": [
    {
     "data": {
      "text/plain": [
       "[Synset('entity.n.01')]"
      ]
     },
     "execution_count": 80,
     "metadata": {},
     "output_type": "execute_result"
    }
   ],
   "source": [
    "\n",
    "\n",
    "\n",
    ">>> dog.root_hypernyms() \n"
   ]
  },
  {
   "cell_type": "code",
   "execution_count": 76,
   "id": "97d283c6",
   "metadata": {},
   "outputs": [
    {
     "name": "stdout",
     "output_type": "stream",
     "text": [
      "Hypernym for 'fish':  [Synset('bony_fish.n.01'), Synset('bottom-feeder.n.02'), Synset('bottom_lurkers.n.01'), Synset('cartilaginous_fish.n.01'), Synset('climbing_perch.n.01'), Synset('fingerling.n.01'), Synset('food_fish.n.01'), Synset('game_fish.n.01'), Synset('mouthbreeder.n.01'), Synset('northern_snakehead.n.01'), Synset('rough_fish.n.01'), Synset('spawner.n.01'), Synset('young_fish.n.01')]\n"
     ]
    }
   ],
   "source": [
    "print (\"Hypernym for 'fish': \", wordnet.synset('fish.n.01').hyponyms())"
   ]
  },
  {
   "cell_type": "code",
   "execution_count": 81,
   "id": "97ab2fb9",
   "metadata": {},
   "outputs": [
    {
     "data": {
      "text/plain": [
       "[Synset('carnivore.n.01')]"
      ]
     },
     "execution_count": 81,
     "metadata": {},
     "output_type": "execute_result"
    }
   ],
   "source": [
    "\n",
    ">>> wn.synset('dog.n.01').lowest_common_hypernyms(wn.synset('cat.n.01'))"
   ]
  },
  {
   "cell_type": "code",
   "execution_count": null,
   "id": "13d9c5ad",
   "metadata": {},
   "outputs": [],
   "source": []
  }
 ],
 "metadata": {
  "kernelspec": {
   "display_name": "Python 3 (ipykernel)",
   "language": "python",
   "name": "python3"
  },
  "language_info": {
   "codemirror_mode": {
    "name": "ipython",
    "version": 3
   },
   "file_extension": ".py",
   "mimetype": "text/x-python",
   "name": "python",
   "nbconvert_exporter": "python",
   "pygments_lexer": "ipython3",
   "version": "3.11.1"
  }
 },
 "nbformat": 4,
 "nbformat_minor": 5
}
