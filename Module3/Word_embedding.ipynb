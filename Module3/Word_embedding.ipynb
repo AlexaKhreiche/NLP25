{
 "cells": [
  {
   "cell_type": "markdown",
   "id": "9aa4ead2",
   "metadata": {},
   "source": [
    "Word Embeddings in NLP"
   ]
  },
  {
   "cell_type": "markdown",
   "id": "03e0c5c8",
   "metadata": {},
   "source": [
    "Approaches for Text Representation\n",
    "1. Traditional Approach"
   ]
  },
  {
   "cell_type": "markdown",
   "id": "81f58ffa",
   "metadata": {},
   "source": [
    "1.1. One-Hot Encoding"
   ]
  },
  {
   "cell_type": "code",
   "execution_count": 1,
   "id": "f3dd3030",
   "metadata": {},
   "outputs": [
    {
     "name": "stdout",
     "output_type": "stream",
     "text": [
      "Vocabulary: {'in', 'mat', 'dog', 'the', 'hat', 'bird', 'cat', 'tree', 'on'}\n",
      "Word to Index Mapping: {'in': 0, 'mat': 1, 'dog': 2, 'the': 3, 'hat': 4, 'bird': 5, 'cat': 6, 'tree': 7, 'on': 8}\n",
      "One-Hot Encoded Matrix:\n",
      "cat: [0, 0, 0, 0, 0, 0, 1, 0, 0]\n",
      "in: [1, 0, 0, 0, 0, 0, 0, 0, 0]\n",
      "the: [0, 0, 0, 1, 0, 0, 0, 0, 0]\n",
      "hat: [0, 0, 0, 0, 1, 0, 0, 0, 0]\n",
      "dog: [0, 0, 1, 0, 0, 0, 0, 0, 0]\n",
      "on: [0, 0, 0, 0, 0, 0, 0, 0, 1]\n",
      "the: [0, 0, 0, 1, 0, 0, 0, 0, 0]\n",
      "mat: [0, 1, 0, 0, 0, 0, 0, 0, 0]\n",
      "bird: [0, 0, 0, 0, 0, 1, 0, 0, 0]\n",
      "in: [1, 0, 0, 0, 0, 0, 0, 0, 0]\n",
      "the: [0, 0, 0, 1, 0, 0, 0, 0, 0]\n",
      "tree: [0, 0, 0, 0, 0, 0, 0, 1, 0]\n"
     ]
    }
   ],
   "source": [
    "def one_hot_encode(text):\n",
    "\twords = text.split()\n",
    "\tvocabulary = set(words)\n",
    "\tword_to_index = {word: i for i, word in enumerate(vocabulary)}\n",
    "\tone_hot_encoded = []\n",
    "\tfor word in words:\n",
    "\t\tone_hot_vector = [0] * len(vocabulary)\n",
    "\t\tone_hot_vector[word_to_index[word]] = 1\n",
    "\t\tone_hot_encoded.append(one_hot_vector)\n",
    "\n",
    "\treturn one_hot_encoded, word_to_index, vocabulary\n",
    "\n",
    "# sample\n",
    "example_text = \"cat in the hat dog on the mat bird in the tree\"\n",
    "\n",
    "one_hot_encoded, word_to_index, vocabulary = one_hot_encode(example_text)\n",
    "\n",
    "print(\"Vocabulary:\", vocabulary)\n",
    "print(\"Word to Index Mapping:\", word_to_index)\n",
    "print(\"One-Hot Encoded Matrix:\")\n",
    "for word, encoding in zip(example_text.split(), one_hot_encoded):\n",
    "\tprint(f\"{word}: {encoding}\")\n"
   ]
  },
  {
   "cell_type": "markdown",
   "id": "06a0a0d0",
   "metadata": {},
   "source": [
    "1.2. Bag of Word (Bow)"
   ]
  },
  {
   "cell_type": "code",
   "execution_count": 2,
   "id": "e86986f9",
   "metadata": {},
   "outputs": [
    {
     "name": "stdout",
     "output_type": "stream",
     "text": [
      "Bag-of-Words Matrix:\n",
      "[[0 1 1 1 0 0 1 0 1]\n",
      " [0 2 0 1 0 1 1 0 1]\n",
      " [1 0 0 1 1 0 1 1 1]\n",
      " [0 1 1 1 0 0 1 0 1]]\n",
      "Vocabulary (Feature Names): ['and' 'document' 'first' 'is' 'one' 'second' 'the' 'third' 'this']\n"
     ]
    }
   ],
   "source": [
    "from sklearn.feature_extraction.text import CountVectorizer\n",
    "documents = [\"This is the first document.\",\n",
    "\t\t\t\"This document is the second document.\",\n",
    "\t\t\t\"And this is the third one.\",\n",
    "\t\t\t\"Is this the first document?\"]\n",
    "\n",
    "vectorizer = CountVectorizer()\n",
    "X = vectorizer.fit_transform(documents)\n",
    "feature_names = vectorizer.get_feature_names_out()\n",
    "\n",
    "print(\"Bag-of-Words Matrix:\")\n",
    "print(X.toarray())\n",
    "print(\"Vocabulary (Feature Names):\", feature_names)\n"
   ]
  },
  {
   "cell_type": "markdown",
   "id": "12b304d2",
   "metadata": {},
   "source": [
    "1.3. Term frequency-inverse document frequency (TF-IDF)"
   ]
  },
  {
   "cell_type": "code",
   "execution_count": 3,
   "id": "0bf20250",
   "metadata": {},
   "outputs": [
    {
     "name": "stdout",
     "output_type": "stream",
     "text": [
      "Document 1:\n",
      "dog: 0.30151134457776363\n",
      "lazy: 0.30151134457776363\n",
      "over: 0.30151134457776363\n",
      "jumps: 0.30151134457776363\n",
      "fox: 0.30151134457776363\n",
      "brown: 0.30151134457776363\n",
      "quick: 0.30151134457776363\n",
      "the: 0.6030226891555273\n",
      "\n",
      "\n",
      "Document 2:\n",
      "step: 0.3535533905932738\n",
      "single: 0.3535533905932738\n",
      "with: 0.3535533905932738\n",
      "begins: 0.3535533905932738\n",
      "miles: 0.3535533905932738\n",
      "thousand: 0.3535533905932738\n",
      "of: 0.3535533905932738\n",
      "journey: 0.3535533905932738\n",
      "\n",
      "\n"
     ]
    }
   ],
   "source": [
    "from sklearn.feature_extraction.text import TfidfVectorizer\n",
    "\n",
    "# Sample\n",
    "documents = [\n",
    "\t\"The quick brown fox jumps over the lazy dog.\",\n",
    "\t\"A journey of a thousand miles begins with a single step.\",\n",
    "]\n",
    "\n",
    "vectorizer = TfidfVectorizer() # Create the TF-IDF vectorizer\n",
    "tfidf_matrix = vectorizer.fit_transform(documents)\n",
    "feature_names = vectorizer.get_feature_names_out()\n",
    "tfidf_values = {}\n",
    "\n",
    "for doc_index, doc in enumerate(documents):\n",
    "\tfeature_index = tfidf_matrix[doc_index, :].nonzero()[1]\n",
    "\ttfidf_doc_values = zip(feature_index, [tfidf_matrix[doc_index, x] for x in feature_index])\n",
    "\ttfidf_values[doc_index] = {feature_names[i]: value for i, value in tfidf_doc_values}\n",
    "#let's print\n",
    "for doc_index, values in tfidf_values.items():\n",
    "\tprint(f\"Document {doc_index + 1}:\")\n",
    "\tfor word, tfidf_value in values.items():\n",
    "\t\tprint(f\"{word}: {tfidf_value}\")\n",
    "\tprint(\"\\n\")\n"
   ]
  },
  {
   "cell_type": "markdown",
   "id": "39d9a442",
   "metadata": {},
   "source": [
    "2. Neural Approach"
   ]
  },
  {
   "cell_type": "markdown",
   "id": "06d505e3",
   "metadata": {},
   "source": [
    "2.1. Word2Vec"
   ]
  },
  {
   "cell_type": "markdown",
   "id": "1bb335c5",
   "metadata": {},
   "source": [
    "There are two neural embedding methods for Word2Vec, Continuous Bag of Words (CBOW) and Skip-gram.\n",
    "\n",
    "2.2. Continuous Bag of Words(CBOW)"
   ]
  },
  {
   "cell_type": "code",
   "execution_count": 6,
   "id": "96b6e198",
   "metadata": {},
   "outputs": [
    {
     "name": "stdout",
     "output_type": "stream",
     "text": [
      "Requirement already satisfied: torch in c:\\python311\\lib\\site-packages (2.6.0)\n",
      "Requirement already satisfied: filelock in c:\\python311\\lib\\site-packages (from torch) (3.13.4)\n",
      "Requirement already satisfied: typing-extensions>=4.10.0 in c:\\users\\suzan.awinat\\appdata\\roaming\\python\\python311\\site-packages (from torch) (4.12.2)\n",
      "Requirement already satisfied: networkx in c:\\python311\\lib\\site-packages (from torch) (3.0)\n",
      "Requirement already satisfied: jinja2 in c:\\python311\\lib\\site-packages (from torch) (3.1.2)\n",
      "Requirement already satisfied: fsspec in c:\\python311\\lib\\site-packages (from torch) (2024.2.0)\n",
      "Requirement already satisfied: sympy==1.13.1 in c:\\python311\\lib\\site-packages (from torch) (1.13.1)\n",
      "Requirement already satisfied: mpmath<1.4,>=1.1.0 in c:\\python311\\lib\\site-packages (from sympy==1.13.1->torch) (1.3.0)\n",
      "Requirement already satisfied: MarkupSafe>=2.0 in c:\\python311\\lib\\site-packages (from jinja2->torch) (2.1.2)\n",
      "Collecting torch\n",
      "  Downloading torch-2.6.0-cp311-cp311-win_amd64.whl.metadata (28 kB)\n",
      "Requirement already satisfied: filelock in c:\\python311\\lib\\site-packages (from torch) (3.13.4)\n",
      "Requirement already satisfied: typing-extensions>=4.10.0 in c:\\users\\suzan.awinat\\appdata\\roaming\\python\\python311\\site-packages (from torch) (4.12.2)\n",
      "Requirement already satisfied: networkx in c:\\python311\\lib\\site-packages (from torch) (3.0)\n",
      "Requirement already satisfied: jinja2 in c:\\python311\\lib\\site-packages (from torch) (3.1.2)\n",
      "Requirement already satisfied: fsspec in c:\\python311\\lib\\site-packages (from torch) (2024.2.0)\n",
      "Collecting sympy==1.13.1 (from torch)\n",
      "  Downloading sympy-1.13.1-py3-none-any.whl.metadata (12 kB)\n",
      "Collecting mpmath<1.4,>=1.1.0 (from sympy==1.13.1->torch)\n",
      "  Downloading mpmath-1.3.0-py3-none-any.whl.metadata (8.6 kB)\n",
      "Requirement already satisfied: MarkupSafe>=2.0 in c:\\python311\\lib\\site-packages (from jinja2->torch) (2.1.2)\n",
      "Downloading torch-2.6.0-cp311-cp311-win_amd64.whl (204.2 MB)\n",
      "   ---------------------------------------- 0.0/204.2 MB ? eta -:--:--\n",
      "   -- ------------------------------------- 11.5/204.2 MB 60.3 MB/s eta 0:00:04\n",
      "   -- ------------------------------------- 14.7/204.2 MB 44.0 MB/s eta 0:00:05\n",
      "   ----- ---------------------------------- 27.5/204.2 MB 44.8 MB/s eta 0:00:04\n",
      "   -------- ------------------------------- 45.1/204.2 MB 55.2 MB/s eta 0:00:03\n",
      "   ------------ --------------------------- 65.8/204.2 MB 62.7 MB/s eta 0:00:03\n",
      "   --------------- ------------------------ 80.5/204.2 MB 65.0 MB/s eta 0:00:02\n",
      "   ------------------ --------------------- 96.5/204.2 MB 66.2 MB/s eta 0:00:02\n",
      "   --------------------- ----------------- 113.8/204.2 MB 68.5 MB/s eta 0:00:02\n",
      "   ------------------------ -------------- 129.0/204.2 MB 69.8 MB/s eta 0:00:02\n",
      "   --------------------------- ----------- 142.6/204.2 MB 68.5 MB/s eta 0:00:01\n",
      "   ------------------------------ -------- 161.7/204.2 MB 70.3 MB/s eta 0:00:01\n",
      "   ---------------------------------- ---- 181.4/204.2 MB 73.4 MB/s eta 0:00:01\n",
      "   ------------------------------------ -- 193.2/204.2 MB 71.4 MB/s eta 0:00:01\n",
      "   --------------------------------------  203.9/204.2 MB 72.4 MB/s eta 0:00:01\n",
      "   --------------------------------------  203.9/204.2 MB 72.4 MB/s eta 0:00:01\n",
      "   --------------------------------------  203.9/204.2 MB 72.4 MB/s eta 0:00:01\n",
      "   --------------------------------------  203.9/204.2 MB 72.4 MB/s eta 0:00:01\n",
      "   --------------------------------------- 204.2/204.2 MB 56.0 MB/s eta 0:00:00\n",
      "Downloading sympy-1.13.1-py3-none-any.whl (6.2 MB)\n",
      "   ---------------------------------------- 0.0/6.2 MB ? eta -:--:--\n",
      "   ---------------------------------------- 6.2/6.2 MB 42.3 MB/s eta 0:00:00\n",
      "Downloading mpmath-1.3.0-py3-none-any.whl (536 kB)\n",
      "   ---------------------------------------- 0.0/536.2 kB ? eta -:--:--\n",
      "   ---------------------------------------- 536.2/536.2 kB 8.8 MB/s eta 0:00:00\n",
      "Installing collected packages: mpmath, sympy, torch\n",
      "Successfully installed mpmath-1.3.0 sympy-1.13.1 torch-2.6.0\n"
     ]
    }
   ],
   "source": [
    "!pip install torch"
   ]
  },
  {
   "cell_type": "code",
   "execution_count": 7,
   "id": "d1d2017b",
   "metadata": {},
   "outputs": [
    {
     "name": "stdout",
     "output_type": "stream",
     "text": [
      "Epoch 1, Loss: 0\n",
      "Epoch 2, Loss: 0\n",
      "Epoch 3, Loss: 0\n",
      "Epoch 4, Loss: 0\n",
      "Epoch 5, Loss: 0\n",
      "Epoch 6, Loss: 0\n",
      "Epoch 7, Loss: 0\n",
      "Epoch 8, Loss: 0\n",
      "Epoch 9, Loss: 0\n",
      "Epoch 10, Loss: 0\n",
      "Epoch 11, Loss: 0\n",
      "Epoch 12, Loss: 0\n",
      "Epoch 13, Loss: 0\n",
      "Epoch 14, Loss: 0\n",
      "Epoch 15, Loss: 0\n",
      "Epoch 16, Loss: 0\n",
      "Epoch 17, Loss: 0\n",
      "Epoch 18, Loss: 0\n",
      "Epoch 19, Loss: 0\n",
      "Epoch 20, Loss: 0\n",
      "Epoch 21, Loss: 0\n",
      "Epoch 22, Loss: 0\n",
      "Epoch 23, Loss: 0\n",
      "Epoch 24, Loss: 0\n",
      "Epoch 25, Loss: 0\n",
      "Epoch 26, Loss: 0\n",
      "Epoch 27, Loss: 0\n",
      "Epoch 28, Loss: 0\n",
      "Epoch 29, Loss: 0\n",
      "Epoch 30, Loss: 0\n",
      "Epoch 31, Loss: 0\n",
      "Epoch 32, Loss: 0\n",
      "Epoch 33, Loss: 0\n",
      "Epoch 34, Loss: 0\n",
      "Epoch 35, Loss: 0\n",
      "Epoch 36, Loss: 0\n",
      "Epoch 37, Loss: 0\n",
      "Epoch 38, Loss: 0\n",
      "Epoch 39, Loss: 0\n",
      "Epoch 40, Loss: 0\n",
      "Epoch 41, Loss: 0\n",
      "Epoch 42, Loss: 0\n",
      "Epoch 43, Loss: 0\n",
      "Epoch 44, Loss: 0\n",
      "Epoch 45, Loss: 0\n",
      "Epoch 46, Loss: 0\n",
      "Epoch 47, Loss: 0\n",
      "Epoch 48, Loss: 0\n",
      "Epoch 49, Loss: 0\n",
      "Epoch 50, Loss: 0\n",
      "Epoch 51, Loss: 0\n",
      "Epoch 52, Loss: 0\n",
      "Epoch 53, Loss: 0\n",
      "Epoch 54, Loss: 0\n",
      "Epoch 55, Loss: 0\n",
      "Epoch 56, Loss: 0\n",
      "Epoch 57, Loss: 0\n",
      "Epoch 58, Loss: 0\n",
      "Epoch 59, Loss: 0\n",
      "Epoch 60, Loss: 0\n",
      "Epoch 61, Loss: 0\n",
      "Epoch 62, Loss: 0\n",
      "Epoch 63, Loss: 0\n",
      "Epoch 64, Loss: 0\n",
      "Epoch 65, Loss: 0\n",
      "Epoch 66, Loss: 0\n",
      "Epoch 67, Loss: 0\n",
      "Epoch 68, Loss: 0\n",
      "Epoch 69, Loss: 0\n",
      "Epoch 70, Loss: 0\n",
      "Epoch 71, Loss: 0\n",
      "Epoch 72, Loss: 0\n",
      "Epoch 73, Loss: 0\n",
      "Epoch 74, Loss: 0\n",
      "Epoch 75, Loss: 0\n",
      "Epoch 76, Loss: 0\n",
      "Epoch 77, Loss: 0\n",
      "Epoch 78, Loss: 0\n",
      "Epoch 79, Loss: 0\n",
      "Epoch 80, Loss: 0\n",
      "Epoch 81, Loss: 0\n",
      "Epoch 82, Loss: 0\n",
      "Epoch 83, Loss: 0\n",
      "Epoch 84, Loss: 0\n",
      "Epoch 85, Loss: 0\n",
      "Epoch 86, Loss: 0\n",
      "Epoch 87, Loss: 0\n",
      "Epoch 88, Loss: 0\n",
      "Epoch 89, Loss: 0\n",
      "Epoch 90, Loss: 0\n",
      "Epoch 91, Loss: 0\n",
      "Epoch 92, Loss: 0\n",
      "Epoch 93, Loss: 0\n",
      "Epoch 94, Loss: 0\n",
      "Epoch 95, Loss: 0\n",
      "Epoch 96, Loss: 0\n",
      "Epoch 97, Loss: 0\n",
      "Epoch 98, Loss: 0\n",
      "Epoch 99, Loss: 0\n",
      "Epoch 100, Loss: 0\n",
      "Embedding for 'embeddings': [[-0.15526658  2.297695    0.7734265   0.80078846 -1.2311771   1.0904031\n",
      "  -0.09594087 -0.8528045   0.537785   -0.792531  ]]\n"
     ]
    }
   ],
   "source": [
    "import torch\n",
    "import torch.nn as nn\n",
    "import torch.optim as optim\n",
    "\n",
    "# Define CBOW model\n",
    "class CBOWModel(nn.Module):\n",
    "\tdef __init__(self, vocab_size, embed_size):\n",
    "\t\tsuper(CBOWModel, self).__init__()\n",
    "\t\tself.embeddings = nn.Embedding(vocab_size, embed_size)\n",
    "\t\tself.linear = nn.Linear(embed_size, vocab_size)\n",
    "\n",
    "\tdef forward(self, context):\n",
    "\t\tcontext_embeds = self.embeddings(context).sum(dim=1)\n",
    "\t\toutput = self.linear(context_embeds)\n",
    "\t\treturn output\n",
    "\n",
    "# Sample data\n",
    "context_size = 2\n",
    "raw_text = \"word embeddings are awesome\"\n",
    "tokens = raw_text.split()\n",
    "vocab = set(tokens)\n",
    "word_to_index = {word: i for i, word in enumerate(vocab)}\n",
    "data = []\n",
    "for i in range(2, len(tokens) - 2):\n",
    "\tcontext = [word_to_index[word] for word in tokens[i - 2:i] + tokens[i + 1:i + 3]]\n",
    "\ttarget = word_to_index[tokens[i]]\n",
    "\tdata.append((torch.tensor(context), torch.tensor(target)))\n",
    "\n",
    "# Hyperparameters\n",
    "vocab_size = len(vocab)\n",
    "embed_size = 10\n",
    "learning_rate = 0.01\n",
    "epochs = 100\n",
    "\n",
    "# Initialize CBOW model\n",
    "cbow_model = CBOWModel(vocab_size, embed_size)\n",
    "criterion = nn.CrossEntropyLoss()\n",
    "optimizer = optim.SGD(cbow_model.parameters(), lr=learning_rate)\n",
    "\n",
    "# Training loop\n",
    "for epoch in range(epochs):\n",
    "\ttotal_loss = 0\n",
    "\tfor context, target in data:\n",
    "\t\toptimizer.zero_grad()\n",
    "\t\toutput = cbow_model(context)\n",
    "\t\tloss = criterion(output.unsqueeze(0), target.unsqueeze(0))\n",
    "\t\tloss.backward()\n",
    "\t\toptimizer.step()\n",
    "\t\ttotal_loss += loss.item()\n",
    "\tprint(f\"Epoch {epoch + 1}, Loss: {total_loss}\")\n",
    "\n",
    "# Example usage: Get embedding for a specific word\n",
    "word_to_lookup = \"embeddings\"\n",
    "word_index = word_to_index[word_to_lookup]\n",
    "embedding = cbow_model.embeddings(torch.tensor([word_index]))\n",
    "print(f\"Embedding for '{word_to_lookup}': {embedding.detach().numpy()}\")\n"
   ]
  },
  {
   "cell_type": "markdown",
   "id": "66c191f2",
   "metadata": {},
   "source": [
    "2.3. Skip-Gram"
   ]
  },
  {
   "cell_type": "code",
   "execution_count": 8,
   "id": "908a3af3",
   "metadata": {},
   "outputs": [
    {
     "name": "stdout",
     "output_type": "stream",
     "text": [
      "Requirement already satisfied: gensim in c:\\python311\\lib\\site-packages (4.3.2)\n",
      "Requirement already satisfied: numpy>=1.18.5 in c:\\python311\\lib\\site-packages (from gensim) (1.24.2)\n",
      "Requirement already satisfied: scipy>=1.7.0 in c:\\python311\\lib\\site-packages (from gensim) (1.10.1)\n",
      "Requirement already satisfied: smart-open>=1.8.1 in c:\\python311\\lib\\site-packages (from gensim) (6.3.0)\n",
      "Vector representation of 'word': [-9.5800208e-03  8.9437785e-03  4.1664648e-03  9.2367809e-03\n",
      "  6.6457358e-03  2.9233587e-03  9.8055992e-03 -4.4231843e-03\n",
      " -6.8048164e-03  4.2256550e-03  3.7299085e-03 -5.6668529e-03\n",
      "  9.7035142e-03 -3.5551414e-03  9.5499391e-03  8.3657773e-04\n",
      " -6.3355025e-03 -1.9741615e-03 -7.3781307e-03 -2.9811086e-03\n",
      "  1.0425397e-03  9.4814906e-03  9.3598543e-03 -6.5986011e-03\n",
      "  3.4773252e-03  2.2767992e-03 -2.4910474e-03 -9.2290826e-03\n",
      "  1.0267317e-03 -8.1645092e-03  6.3240929e-03 -5.8001447e-03\n",
      "  5.5353874e-03  9.8330071e-03 -1.5987856e-04  4.5296676e-03\n",
      " -1.8086446e-03  7.3613892e-03  3.9419360e-03 -9.0095028e-03\n",
      " -2.3953868e-03  3.6261671e-03 -1.0080514e-04 -1.2024897e-03\n",
      " -1.0558038e-03 -1.6681013e-03  6.0541567e-04  4.1633579e-03\n",
      " -4.2531900e-03 -3.8336846e-03 -5.0755290e-05  2.6549282e-04\n",
      " -1.7014991e-04 -4.7843382e-03  4.3120929e-03 -2.1710952e-03\n",
      "  2.1056964e-03  6.6702347e-04  5.9686624e-03 -6.8418151e-03\n",
      " -6.8183104e-03 -4.4762432e-03  9.4359247e-03 -1.5930856e-03\n",
      " -9.4291316e-03 -5.4270827e-04 -4.4478951e-03  5.9980620e-03\n",
      " -9.5831212e-03  2.8602476e-03 -9.2544509e-03  1.2484600e-03\n",
      "  6.0004774e-03  7.4001122e-03 -7.6209377e-03 -6.0561695e-03\n",
      " -6.8399287e-03 -7.9184016e-03 -9.4984965e-03 -2.1255787e-03\n",
      " -8.3757477e-04 -7.2564054e-03  6.7876028e-03  1.1183097e-03\n",
      "  5.8291717e-03  1.4714618e-03  7.9081533e-04 -7.3718326e-03\n",
      " -2.1769912e-03  4.3199472e-03 -5.0856168e-03  1.1304744e-03\n",
      "  2.8835384e-03 -1.5386029e-03  9.9318363e-03  8.3507905e-03\n",
      "  2.4184163e-03  7.1170190e-03  5.8888551e-03 -5.5787875e-03]\n"
     ]
    },
    {
     "name": "stderr",
     "output_type": "stream",
     "text": [
      "[nltk_data] Downloading package punkt to\n",
      "[nltk_data]     C:\\Users\\suzan.awinat/nltk_data...\n",
      "[nltk_data]   Package punkt is already up-to-date!\n"
     ]
    }
   ],
   "source": [
    "!pip install gensim\n",
    "from gensim.models import Word2Vec\n",
    "from nltk.tokenize import word_tokenize\n",
    "import nltk\n",
    "nltk.download('punkt') # Download the tokenizer models if not already downloaded\n",
    "\n",
    "sample = \"Word embeddings are dense vector representations of words.\"\n",
    "tokenized_corpus = word_tokenize(sample.lower()) # Lowercasing for consistency\n",
    "\n",
    "skipgram_model = Word2Vec(sentences=[tokenized_corpus],\n",
    "\t\t\t\t\t\tvector_size=100, # Dimensionality of the word vectors\n",
    "\t\t\t\t\t\twindow=5,\t\t # Maximum distance between the current and predicted word within a sentence\n",
    "\t\t\t\t\t\tsg=1,\t\t\t # Skip-Gram model (1 for Skip-Gram, 0 for CBOW)\n",
    "\t\t\t\t\t\tmin_count=1,\t # Ignores all words with a total frequency lower than this\n",
    "\t\t\t\t\t\tworkers=4)\t # Number of CPU cores to use for training the model\n",
    "\n",
    "# Training\n",
    "skipgram_model.train([tokenized_corpus], total_examples=1, epochs=10)\n",
    "skipgram_model.save(\"skipgram_model.model\")\n",
    "loaded_model = Word2Vec.load(\"skipgram_model.model\")\n",
    "vector_representation = loaded_model.wv['word']\n",
    "print(\"Vector representation of 'word':\", vector_representation)\n"
   ]
  },
  {
   "cell_type": "markdown",
   "id": "2d99169d",
   "metadata": {},
   "source": [
    "3. Pretrained Word-Embedding"
   ]
  },
  {
   "cell_type": "markdown",
   "id": "b8643fc0",
   "metadata": {},
   "source": [
    "3.1. GloVe"
   ]
  },
  {
   "cell_type": "code",
   "execution_count": 9,
   "id": "a12483ed",
   "metadata": {},
   "outputs": [
    {
     "name": "stdout",
     "output_type": "stream",
     "text": [
      "[=================---------------------------------] 35.5% 23.4/66.0MB downloaded"
     ]
    },
    {
     "name": "stderr",
     "output_type": "stream",
     "text": [
      "IOPub message rate exceeded.\n",
      "The notebook server will temporarily stop sending output\n",
      "to the client in order to avoid crashing it.\n",
      "To change this limit, set the config variable\n",
      "`--NotebookApp.iopub_msg_rate_limit`.\n",
      "\n",
      "Current values:\n",
      "NotebookApp.iopub_msg_rate_limit=1000.0 (msgs/sec)\n",
      "NotebookApp.rate_limit_window=3.0 (secs)\n",
      "\n"
     ]
    },
    {
     "name": "stdout",
     "output_type": "stream",
     "text": [
      "[========================================----------] 81.0% 53.4/66.0MB downloaded"
     ]
    },
    {
     "name": "stderr",
     "output_type": "stream",
     "text": [
      "IOPub message rate exceeded.\n",
      "The notebook server will temporarily stop sending output\n",
      "to the client in order to avoid crashing it.\n",
      "To change this limit, set the config variable\n",
      "`--NotebookApp.iopub_msg_rate_limit`.\n",
      "\n",
      "Current values:\n",
      "NotebookApp.iopub_msg_rate_limit=1000.0 (msgs/sec)\n",
      "NotebookApp.rate_limit_window=3.0 (secs)\n",
      "\n"
     ]
    },
    {
     "name": "stdout",
     "output_type": "stream",
     "text": [
      "[==================================================] 100.0% 66.0/66.0MB downloaded\n",
      "Similarity between 'learn' and 'learning' using GloVe: 0.802\n",
      "Similarity between 'india' and 'indian' using GloVe: 0.865\n",
      "Similarity between 'fame' and 'famous' using GloVe: 0.589\n"
     ]
    }
   ],
   "source": [
    "from gensim.models import KeyedVectors\n",
    "from gensim.downloader import load\n",
    "\n",
    "glove_model = load('glove-wiki-gigaword-50')\n",
    "word_pairs = [('learn', 'learning'), ('india', 'indian'), ('fame', 'famous')]\n",
    "\n",
    "# Compute similarity for each pair of words\n",
    "for pair in word_pairs:\n",
    "\tsimilarity = glove_model.similarity(pair[0], pair[1])\n",
    "\tprint(f\"Similarity between '{pair[0]}' and '{pair[1]}' using GloVe: {similarity:.3f}\")\n"
   ]
  },
  {
   "cell_type": "markdown",
   "id": "b5a223a3",
   "metadata": {},
   "source": [
    "3.2. Fasttext"
   ]
  },
  {
   "cell_type": "code",
   "execution_count": 11,
   "id": "e089aa86",
   "metadata": {},
   "outputs": [],
   "source": [
    "import gensim.downloader as api\n",
    "fasttext_model = api.load(\"fasttext-wiki-news-subwords-300\") ## Load the pre-trained fastText model\n",
    "# Define word pairs to compute similarity for\n",
    "word_pairs = [('learn', 'learning'), ('india', 'indian'), ('fame', 'famous')]\n",
    "\n",
    "# Compute similarity for each pair of words\n",
    "for pair in word_pairs:\n",
    "\tsimilarity = fasttext_model.similarity(pair[0], pair[1])\n",
    "\tprint(f\"Similarity between '{pair[0]}' and '{pair[1]}' using FastText: {similarity:.3f}\")\n"
   ]
  },
  {
   "cell_type": "markdown",
   "id": "e4b80533",
   "metadata": {},
   "source": [
    "3.3. BERT (Bidirectional Encoder Representations from Transformers)"
   ]
  },
  {
   "cell_type": "code",
   "execution_count": 12,
   "id": "d628aa75",
   "metadata": {},
   "outputs": [],
   "source": [
    "from transformers import BertTokenizer, BertModel\n",
    "import torch\n",
    "\n",
    "# Load pre-trained BERT model and tokenizer\n",
    "model_name = 'bert-base-uncased'\n",
    "tokenizer = BertTokenizer.from_pretrained(model_name)\n",
    "model = BertModel.from_pretrained(model_name)\n",
    "\n",
    "word_pairs = [('learn', 'learning'), ('india', 'indian'), ('fame', 'famous')]\n",
    "\n",
    "# Compute similarity for each pair of words\n",
    "for pair in word_pairs:\n",
    "\ttokens = tokenizer(pair, return_tensors='pt')\n",
    "\twith torch.no_grad():\n",
    "\t\toutputs = model(**tokens)\n",
    "\t\n",
    "\t# Extract embeddings for the [CLS] token\n",
    "\tcls_embedding = outputs.last_hidden_state[:, 0, :]\n",
    "\n",
    "\tsimilarity = torch.nn.functional.cosine_similarity(cls_embedding[0], cls_embedding[1], dim=0)\n",
    "\t\n",
    "\tprint(f\"Similarity between '{pair[0]}' and '{pair[1]}' using BERT: {similarity:.3f}\")\n"
   ]
  },
  {
   "cell_type": "code",
   "execution_count": null,
   "id": "c2eed93a",
   "metadata": {},
   "outputs": [],
   "source": []
  }
 ],
 "metadata": {
  "kernelspec": {
   "display_name": "Python 3 (ipykernel)",
   "language": "python",
   "name": "python3"
  },
  "language_info": {
   "codemirror_mode": {
    "name": "ipython",
    "version": 3
   },
   "file_extension": ".py",
   "mimetype": "text/x-python",
   "name": "python",
   "nbconvert_exporter": "python",
   "pygments_lexer": "ipython3",
   "version": "3.11.1"
  }
 },
 "nbformat": 4,
 "nbformat_minor": 5
}
