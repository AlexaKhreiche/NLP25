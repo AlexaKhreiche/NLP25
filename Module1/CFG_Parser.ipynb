{
 "cells": [
  {
   "cell_type": "code",
   "execution_count": 1,
   "id": "cc23b5b7",
   "metadata": {},
   "outputs": [],
   "source": [
    "import nltk\n",
    "from nltk.parse import RecursiveDescentParser\n",
    "from nltk import CFG"
   ]
  },
  {
   "cell_type": "code",
   "execution_count": 2,
   "id": "1ffdc4a8",
   "metadata": {},
   "outputs": [],
   "source": [
    "grammar1 = nltk.CFG.fromstring(\"\"\"\n",
    "  S -> NP VP\n",
    "  VP -> V NP | V NP PP\n",
    "  PP -> P NP\n",
    "  V -> \"saw\" | \"ate\" | \"walked\"\n",
    "  NP -> \"John\" | \"Mary\" | \"Bob\" | Det N | Det N PP\n",
    "  Det -> \"a\" | \"an\" | \"the\" | \"my\"\n",
    "  N -> \"man\" | \"dog\" | \"cat\" | \"telescope\" | \"park\"\n",
    "  P -> \"in\" | \"on\" | \"by\" | \"with\"\n",
    "  \"\"\")"
   ]
  },
  {
   "cell_type": "code",
   "execution_count": 5,
   "id": "0efdf375",
   "metadata": {},
   "outputs": [
    {
     "name": "stdout",
     "output_type": "stream",
     "text": [
      "(S\n",
      "  (NP (Det the) (N dog))\n",
      "  (VP\n",
      "    (V saw)\n",
      "    (NP (Det a) (N man) (PP (P in) (NP (Det the) (N park))))))\n",
      "                 S                      \n",
      "      ___________|___                    \n",
      "     |               VP                 \n",
      "     |        _______|___                \n",
      "     |       |           NP             \n",
      "     |       |    _______|___            \n",
      "     |       |   |   |       PP         \n",
      "     |       |   |   |    ___|___        \n",
      "     NP      |   |   |   |       NP     \n",
      "  ___|___    |   |   |   |    ___|___    \n",
      "Det      N   V  Det  N   P  Det      N  \n",
      " |       |   |   |   |   |   |       |   \n",
      "the     dog saw  a  man  in the     park\n",
      "\n",
      "(S\n",
      "  (NP (Det the) (N dog))\n",
      "  (VP\n",
      "    (V saw)\n",
      "    (NP (Det a) (N man))\n",
      "    (PP (P in) (NP (Det the) (N park)))))\n",
      "                 S                          \n",
      "      ___________|_______                    \n",
      "     |                   VP                 \n",
      "     |        ___________|_______            \n",
      "     |       |       |           PP         \n",
      "     |       |       |        ___|___        \n",
      "     NP      |       NP      |       NP     \n",
      "  ___|___    |    ___|___    |    ___|___    \n",
      "Det      N   V  Det      N   P  Det      N  \n",
      " |       |   |   |       |   |   |       |   \n",
      "the     dog saw  a      man  in the     park\n",
      "\n"
     ]
    }
   ],
   "source": [
    "sent = \"the dog saw a man in the park\".split()\n",
    "\n",
    "rd_parser = nltk.RecursiveDescentParser(grammar1)\n",
    "\n",
    "for tree in rd_parser.parse(sent):\n",
    "    print(tree)\n",
    "    tree.pretty_print()"
   ]
  },
  {
   "cell_type": "code",
   "execution_count": null,
   "id": "fdee776f",
   "metadata": {},
   "outputs": [],
   "source": []
  }
 ],
 "metadata": {
  "kernelspec": {
   "display_name": "Python 3 (ipykernel)",
   "language": "python",
   "name": "python3"
  },
  "language_info": {
   "codemirror_mode": {
    "name": "ipython",
    "version": 3
   },
   "file_extension": ".py",
   "mimetype": "text/x-python",
   "name": "python",
   "nbconvert_exporter": "python",
   "pygments_lexer": "ipython3",
   "version": "3.11.1"
  }
 },
 "nbformat": 4,
 "nbformat_minor": 5
}
